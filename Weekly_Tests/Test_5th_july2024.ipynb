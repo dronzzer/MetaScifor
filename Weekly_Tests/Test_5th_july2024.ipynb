{
  "nbformat": 4,
  "nbformat_minor": 0,
  "metadata": {
    "colab": {
      "provenance": []
    },
    "kernelspec": {
      "name": "python3",
      "display_name": "Python 3"
    },
    "language_info": {
      "name": "python"
    }
  },
  "cells": [
    {
      "cell_type": "code",
      "source": [
        "# Candy Vending Machine\n",
        "total_candies_to_load = int(input(\"Enter the amount of candies to be loaded into the vending machine: \"))\n",
        "print(f\"🍬🍬Candy Vending Machine🍬🍬\\n{total_candies_to_load} candies loaded into the vending machine\")\n",
        "\n",
        "numberOfCandiesUserWants = int(input(\"Enter the number of candies you want to buy: \"))\n",
        "if numberOfCandiesUserWants > total_candies_to_load or numberOfCandiesUserWants <= 0:\n",
        "    print('''\n",
        "You have entered a number of candies which is either zero or less than zero and is not possible to disperse.\n",
        "Please try again or visit once again.\n",
        "Thanks for shopping with us!\n",
        "We will be happy to serve you once again.\n",
        "''')\n",
        "else:\n",
        "    cost_per_candy = 1\n",
        "    total_cost = 0\n",
        "    for i in range(numberOfCandiesUserWants):\n",
        "        for j in range(cost_per_candy):\n",
        "            total_cost += 1\n",
        "    print(f\"Please pay Rs {total_cost}\")\n",
        "\n",
        "    UserMoney = int(input(\"Enter the amount you want to deposit: \"))\n",
        "    if total_cost == UserMoney:\n",
        "        for i in range(numberOfCandiesUserWants):\n",
        "            print(\"Delivering\")\n",
        "        total_candies_to_load -= numberOfCandiesUserWants\n",
        "        print(f\"Number of candies remaining in vending machine: {total_candies_to_load}\")\n",
        "    else:\n",
        "        print(\"Entered wrong amount. Try again!\")"
      ],
      "metadata": {
        "id": "amCMqn26gkGY",
        "colab": {
          "base_uri": "https://localhost:8080/"
        },
        "outputId": "1d6e8b7a-54ad-49ee-f0f4-7e90d0e86641"
      },
      "execution_count": null,
      "outputs": [
        {
          "output_type": "stream",
          "name": "stdout",
          "text": [
            "Enter the amount of candies to be loaded into the vending machine: 100\n",
            "🍬🍬Candy Vending Machine🍬🍬\n",
            "100 candies loaded into the vending machine\n",
            "Enter the number of candies you want to buy: 10\n",
            "Please pay Rs 10\n",
            "Enter the amount you want to deposit: 10\n",
            "Delivering\n",
            "Delivering\n",
            "Delivering\n",
            "Delivering\n",
            "Delivering\n",
            "Delivering\n",
            "Delivering\n",
            "Delivering\n",
            "Delivering\n",
            "Delivering\n",
            "Number of candies remaining in vending machine: 90\n"
          ]
        }
      ]
    },
    {
      "cell_type": "code",
      "source": [
        "num=int(input(\"Enter a number(>10): \"))\n",
        "for i in range(2,num):\n",
        "  if i%2==0:\n",
        "    print(i,\"is an even number\")\n",
        "  else:\n",
        "    print(i,\"is an odd number\")\n"
      ],
      "metadata": {
        "colab": {
          "base_uri": "https://localhost:8080/"
        },
        "id": "nMnyrg-6j7fs",
        "outputId": "24699dbd-5561-49c5-e238-d1e71d9244a2"
      },
      "execution_count": null,
      "outputs": [
        {
          "output_type": "stream",
          "name": "stdout",
          "text": [
            "Enter a number(>10): 15\n",
            "2 is an even number\n",
            "3 is an odd number\n",
            "4 is an even number\n",
            "5 is an odd number\n",
            "6 is an even number\n",
            "7 is an odd number\n",
            "8 is an even number\n",
            "9 is an odd number\n",
            "10 is an even number\n",
            "11 is an odd number\n",
            "12 is an even number\n",
            "13 is an odd number\n",
            "14 is an even number\n"
          ]
        }
      ]
    },
    {
      "cell_type": "code",
      "source": [
        "#count of uppercaseletter , lower case letter, number and symbols\n",
        "word=input(\"Enter a word: \")\n",
        "upper=0\n",
        "lower=0\n",
        "numeric=0\n",
        "symbol=0\n",
        "for i in word:\n",
        "  if i.isupper():\n",
        "    upper+=1\n",
        "  elif i.islower():\n",
        "    lower+=1\n",
        "  elif i.isnumeric():\n",
        "    numeric+=1\n",
        "  elif i.isalpha()==False:\n",
        "    symbol+=1\n",
        "print(f\"Number of uppercase letters: {upper}\")\n",
        "print(f\"Number of lowercase letters: {lower}\")\n",
        "print(f\"Number of numeric values: {numeric}\")\n",
        "print(f\"Number of symbols: {symbol}\")\n"
      ],
      "metadata": {
        "colab": {
          "base_uri": "https://localhost:8080/"
        },
        "id": "IkHgbdl1ljJy",
        "outputId": "d10047cd-c373-4c19-e3a4-2edaf79d5c36"
      },
      "execution_count": null,
      "outputs": [
        {
          "output_type": "stream",
          "name": "stdout",
          "text": [
            "Enter a word: FD@123a\n",
            "Number of uppercase letters: 2\n",
            "Number of lowercase letters: 1\n",
            "Number of numeric values: 3\n",
            "Number of symbols: 1\n"
          ]
        }
      ]
    },
    {
      "cell_type": "code",
      "source": [
        "# to check if password only consist alphabets\n",
        "username=input(\"Enter your username: \")\n",
        "password=input(\"Enter the Password: \")\n",
        "b=True\n",
        "for i in password:\n",
        "  if i.isalpha():\n",
        "    b=True\n",
        "  else:\n",
        "    b=False\n",
        "    break\n",
        "if b==True:\n",
        "  print(\"Its a valid password\")\n",
        "else:\n",
        "  print(\"Its not a valid password . Please enter only alphbetical characters!!\")\n"
      ],
      "metadata": {
        "colab": {
          "base_uri": "https://localhost:8080/"
        },
        "id": "jZpZunnGmV5L",
        "outputId": "c2e06ec9-1128-4a70-bb2a-14f726fecf09"
      },
      "execution_count": null,
      "outputs": [
        {
          "output_type": "stream",
          "name": "stdout",
          "text": [
            "Enter your username: kfjdhb567\n",
            "Enter the Password: nhiwgk23\n",
            "Its not a valid password . Please enter only alphbetical characters!!\n"
          ]
        }
      ]
    },
    {
      "cell_type": "code",
      "source": [
        "year=int(input(\"Enter a year: \"))\n",
        "if year%4==0 and (year%100!=0 or year%400==0):\n",
        "  print(f\"{year} is a leap year\")\n",
        "else:\n",
        "  print(f\"{year} is not a leap year\")"
      ],
      "metadata": {
        "colab": {
          "base_uri": "https://localhost:8080/"
        },
        "id": "0rzyqxGRoXU9",
        "outputId": "fa0e9c81-420e-4412-a637-4cd11b20b68e"
      },
      "execution_count": null,
      "outputs": [
        {
          "output_type": "stream",
          "name": "stdout",
          "text": [
            "Enter a year: 2024\n",
            "2024 is a leap year\n"
          ]
        }
      ]
    },
    {
      "cell_type": "code",
      "source": [],
      "metadata": {
        "id": "FUvuIunuorLg"
      },
      "execution_count": null,
      "outputs": []
    }
  ]
}