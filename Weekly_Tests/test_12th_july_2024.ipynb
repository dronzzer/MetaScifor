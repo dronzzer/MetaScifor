{
  "nbformat": 4,
  "nbformat_minor": 0,
  "metadata": {
    "colab": {
      "provenance": []
    },
    "kernelspec": {
      "name": "python3",
      "display_name": "Python 3"
    },
    "language_info": {
      "name": "python"
    }
  },
  "cells": [
    {
      "cell_type": "code",
      "execution_count": null,
      "metadata": {
        "colab": {
          "base_uri": "https://localhost:8080/"
        },
        "id": "5HXYX8c-iQge",
        "outputId": "2255a558-9878-42dd-adeb-81b5803f76a1"
      },
      "outputs": [
        {
          "output_type": "stream",
          "name": "stdout",
          "text": [
            "h\n"
          ]
        }
      ],
      "source": [
        "print(\"h\")"
      ]
    },
    {
      "cell_type": "markdown",
      "source": [
        "\n",
        "In a class, the teacher decides to assign roll numbers to the students in alphabetical order of their\n",
        "names. The class consists of more than 60 students. So the class monitor decides to create a list in\n",
        "python to take the name of the students in any order and then will print the list in sorted order with roll\n",
        "numbers. ( Hint: use append() method to add the names in the list and then use sort() function on the\n",
        "list ) . After sorting the list, the Index number of the list can be used to assign the roll numbers to the\n",
        "students. ( Hint : roll no = index + 1 )\n",
        "[link text](https://)"
      ],
      "metadata": {
        "id": "cCoxCWgsiUEw"
      }
    },
    {
      "cell_type": "code",
      "source": [
        "stud=[]\n",
        "for i in range(0,10):\n",
        "  stud.append(input(\"Enter the name of student: \"))\n",
        "stud.sort()\n",
        "for i in range(0,len(stud)):\n",
        "  print(f\"Rollno.={i+1}.) Name={stud[i]}\")"
      ],
      "metadata": {
        "colab": {
          "base_uri": "https://localhost:8080/"
        },
        "id": "bu80Lnfuifo7",
        "outputId": "8496b8f6-4440-4cfa-dc24-3baeae7322c0"
      },
      "execution_count": null,
      "outputs": [
        {
          "output_type": "stream",
          "name": "stdout",
          "text": [
            "Enter the name of student: khush\n",
            "Enter the name of student: angad\n",
            "Enter the name of student: bhavik\n",
            "Enter the name of student: cheta\n",
            "Enter the name of student: akshita\n",
            "Enter the name of student: kriti\n",
            "Enter the name of student: vidushi\n",
            "Enter the name of student: harshit\n",
            "Enter the name of student: ansh\n",
            "Enter the name of student: deepak\n",
            "Rollno.=1.) Name=akshita\n",
            "Rollno.=2.) Name=angad\n",
            "Rollno.=3.) Name=ansh\n",
            "Rollno.=4.) Name=bhavik\n",
            "Rollno.=5.) Name=cheta\n",
            "Rollno.=6.) Name=deepak\n",
            "Rollno.=7.) Name=harshit\n",
            "Rollno.=8.) Name=khush\n",
            "Rollno.=9.) Name=kriti\n",
            "Rollno.=10.) Name=vidushi\n"
          ]
        }
      ]
    },
    {
      "cell_type": "markdown",
      "source": [
        "5 friends decided to go for a picnic and they start discussing the items which they have to take with\n",
        "them. They wanted to create a list where they can add items one by one. To help them, write a\n",
        "program in python to create an empty list. Then use for loop and append() method to add items one by\n",
        "one. ( Note: Range of loop depends on the number of items that have to be included in the list.) After\n",
        "adding all the items ask whether the user whether wants to remove any items or not and then print the\n",
        "whole list on the screen."
      ],
      "metadata": {
        "id": "y9R4zyydl30g"
      }
    },
    {
      "cell_type": "code",
      "source": [
        "items=[]\n",
        "num=int(input(\"Enter the number of items: \"))\n",
        "for i in range(0,num):\n",
        "  items.append(input(\"Enter the item: \"))\n",
        "opt=\"yes\"\n",
        "while opt==\"yes\":\n",
        "  opt=(input(\"Do you want to remove any item? \"))\n",
        "  if opt==\"yes\":\n",
        "    items.remove(input(\"Enter the item to be removed: \"))\n",
        "  else:\n",
        "    break\n",
        "print(items)\n"
      ],
      "metadata": {
        "colab": {
          "base_uri": "https://localhost:8080/"
        },
        "id": "QQFy306mjggl",
        "outputId": "c21aa6b6-09d0-43ee-cc12-4f15867a4b23"
      },
      "execution_count": null,
      "outputs": [
        {
          "output_type": "stream",
          "name": "stdout",
          "text": [
            "Enter the number of items: 4\n",
            "Enter the item: pillow\n",
            "Enter the item: pen\n",
            "Enter the item: earphone\n",
            "Enter the item: speaker\n",
            "Do you want to remove any item? yes\n",
            "Enter the item to be removed: speaker\n",
            "Do you want to remove any item? no\n",
            "['pillow', 'pen', 'earphone']\n"
          ]
        }
      ]
    },
    {
      "cell_type": "markdown",
      "source": [
        "● A teacher created a list of names of the students. Now teachers want to get the name of all those\n",
        "students whose name starts with the letter “A”. To help the teacher write a python program and create\n",
        "a list of names of students. Then print the names which start with the letter “A”. (Hint: Use for loop and\n",
        "give condition I [0] == “A” )"
      ],
      "metadata": {
        "id": "U_l-ZBRIqGWr"
      }
    },
    {
      "cell_type": "code",
      "source": [
        "students=[\"Bhavin\",\"Raghav\",\"Aryank\",\"Rahul\",\"Akshita\",\"kriti\",\"Khushwant\",\"Abhinav\",\"arushi\"]\n",
        "for i in range(0,len(students)):\n",
        "  if students[i][0]==\"A\" or students[i][0]==\"a\":\n",
        "    print(students[i])"
      ],
      "metadata": {
        "colab": {
          "base_uri": "https://localhost:8080/"
        },
        "id": "7BU6YQgakknm",
        "outputId": "9ccf265a-0422-4101-9eee-bf54e045c4fb"
      },
      "execution_count": null,
      "outputs": [
        {
          "output_type": "stream",
          "name": "stdout",
          "text": [
            "Aryank\n",
            "Akshita\n",
            "Abhinav\n",
            "arushi\n"
          ]
        }
      ]
    },
    {
      "cell_type": "markdown",
      "source": [
        "Nidhi is trying to solve a few questions in mathematics. She is actually finding out the central tendency(\n",
        "mean, median, and mode ) of some numbers. It is taking a lot of time for her to complete the\n",
        "questions. Help Nidhi in solving the following questions. Write the program for each of them.\n",
        "● .\n",
        "● She wants to find the mean of numbers. Write a program to find the mean of numbers.\n",
        "● Hint: find the sum of all the numbers in the list then divide it with the number of elements present in the\n",
        "list.\n",
        "● .\n",
        "● Shen wants to find the median as well. Write a program to find the median of numbers in the given list.\n",
        "● Hint: Sort the entire list the print the middle value of the list. If the list contains n numbers where n is\n",
        "even, then find the mean of the middle values.\n",
        "● .\n",
        "● Lastly, she wants to find the mode of numbers. To help Nidhi in this problem, write a program in python\n",
        "where users can enter n numbers as input, and then the program will print the mode of numbers.\n",
        "● Hint: Print the number having maximum count in the list."
      ],
      "metadata": {
        "id": "tFctSUBJrEFy"
      }
    },
    {
      "cell_type": "code",
      "source": [
        "num=[12,3,6,2,5,6,8,7,13,9,6,4,10,5,7,14]\n",
        "print(\"The mean of the given numbers is = \",(sum(num)/len(num)))\n",
        "num.sort()\n",
        "if len(num)%2==0:\n",
        "  print(\"The median of the given nummbers is = \",num[(len(num))//2] )\n",
        "else:\n",
        "  print(\"The median of given numbers is = \", num[(len(num)+1)//2])\n",
        "count={}\n",
        "for i in num:\n",
        "  if i not in count:\n",
        "    count[i]=1\n",
        "  else:\n",
        "    count[i]+=1\n",
        "print(\"The mode of the given numbers is = \",max(count,key=count.get))\n",
        "print(count)"
      ],
      "metadata": {
        "colab": {
          "base_uri": "https://localhost:8080/"
        },
        "id": "racFXjXPqw0z",
        "outputId": "ae64e1a9-8de1-45cf-f12d-f42a88f5d657"
      },
      "execution_count": null,
      "outputs": [
        {
          "output_type": "stream",
          "name": "stdout",
          "text": [
            "The mean of the given numbers is =  7.3125\n",
            "The median of the given nummbers is =  7\n",
            "The mode of the given numbers is =  6\n",
            "{2: 1, 3: 1, 4: 1, 5: 2, 6: 3, 7: 2, 8: 1, 9: 1, 10: 1, 12: 1, 13: 1, 14: 1}\n"
          ]
        }
      ]
    },
    {
      "cell_type": "markdown",
      "source": [
        "In a school, a football competition is going to be held. The sports captain needs to create a list of the\n",
        "players with their heights. According to the rule, only those students can participate in the competition\n",
        "who have a height greater than 167cm. To make things easier write a python program. Create a list of\n",
        "tuples with the name of the player and their height in cm. Note: while taking the input from the users,\n",
        "don’t include the players whose height is less than 167cm. ( Use continue statement )\n",
        "● Sample list: [ (“Chris” , 170) , (“Aditya” , 182) , (“Chirag” , 176 ) ]\n"
      ],
      "metadata": {
        "id": "AIpbBrUtvJ6V"
      }
    },
    {
      "cell_type": "code",
      "source": [
        "\n",
        "players = []\n",
        "\n",
        "num_players = 5\n",
        "\n",
        "print(\"Enter the name and height of the players (in cm):\")\n",
        "for _ in range(num_players):\n",
        "    name = input(\"Name: \").strip()\n",
        "    height = int(input(\"Height (cm): \").strip())\n",
        "    if height <= 167:\n",
        "        continue\n",
        "    players.append((name, height))\n",
        "print(\"\\nList of players eligible for the competition:\")\n",
        "for player in players:\n",
        "    print(player)\n"
      ],
      "metadata": {
        "colab": {
          "base_uri": "https://localhost:8080/"
        },
        "id": "f9r9OR7Pr2zA",
        "outputId": "21bcee7e-b40f-42e3-d077-51f84cf4ab5b"
      },
      "execution_count": null,
      "outputs": [
        {
          "output_type": "stream",
          "name": "stdout",
          "text": [
            "Enter the name and height of the players (in cm):\n",
            "Name: khush\n",
            "Height (cm): 168\n",
            "Name: chris\n",
            "Height (cm): 165\n",
            "Name: abhi\n",
            "Height (cm): 180\n",
            "Name: chetan\n",
            "Height (cm): 159\n",
            "Name: dig\n",
            "Height (cm): 160\n",
            "\n",
            "List of players eligible for the competition:\n",
            "('khush', 168)\n",
            "('abhi', 180)\n"
          ]
        }
      ]
    },
    {
      "cell_type": "code",
      "source": [],
      "metadata": {
        "id": "31xugklEv9BW"
      },
      "execution_count": null,
      "outputs": []
    }
  ]
}