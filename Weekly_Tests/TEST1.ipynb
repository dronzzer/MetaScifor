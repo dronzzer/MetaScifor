{
  "nbformat": 4,
  "nbformat_minor": 0,
  "metadata": {
    "colab": {
      "provenance": []
    },
    "kernelspec": {
      "name": "python3",
      "display_name": "Python 3"
    },
    "language_info": {
      "name": "python"
    }
  },
  "cells": [
    {
      "cell_type": "code",
      "execution_count": null,
      "metadata": {
        "colab": {
          "base_uri": "https://localhost:8080/"
        },
        "id": "x0yTqHI-Scof",
        "outputId": "0c6dca22-304c-44ed-d823-ecf6e7fd91e3"
      },
      "outputs": [
        {
          "output_type": "stream",
          "name": "stdout",
          "text": [
            "Hey\n"
          ]
        }
      ],
      "source": [
        "print(\"Hey\")"
      ]
    },
    {
      "cell_type": "code",
      "source": [],
      "metadata": {
        "id": "LG1sRyzeSkR_"
      },
      "execution_count": null,
      "outputs": []
    },
    {
      "cell_type": "markdown",
      "source": [
        "The RTO (Regional Transport Office) website holds a registration form which is responsible for registering a user for a Driving License. The RTO wants to take the next step if and only if the user's age is greater than or equal to 18.\n",
        "\n",
        "Scenario 1 : When Traffic Light is Red\n",
        "\n",
        "Jake, a 20 year old teenager has learnt to ride a bike and is a bit confused with the traffic signals. He doesn't know what to do when the signal is red.\n",
        "\n",
        "So In this scenario Jake should just know what Jake should do when the signal is red whether he should leave or stop.\n",
        "\n",
        "So Write a If-Else condition to guide Jake"
      ],
      "metadata": {
        "id": "qXMD53PNSsA9"
      }
    },
    {
      "cell_type": "code",
      "source": [
        "age=int(input(\"Age of applicant: \"))\n",
        "if age>=18:\n",
        "  print(\"Applicant is eligbile for driving licence\")\n",
        "  colour=input(\"Colour of the light: \")\n",
        "  if colour==\"red\": print(\"Stop\")\n",
        "  elif colour==\"green\": print(\"leave\")\n",
        "  else: print(\"hold\")\n",
        "else:\n",
        "  print(\"Applicant is not eligibile for driving licence\")\n"
      ],
      "metadata": {
        "colab": {
          "base_uri": "https://localhost:8080/"
        },
        "id": "F5bV1-oTSuZ2",
        "outputId": "c920fb79-4489-4834-b499-ba174e9ea9ff"
      },
      "execution_count": null,
      "outputs": [
        {
          "output_type": "stream",
          "name": "stdout",
          "text": [
            "Age of applicant: 19\n",
            "Applicant is eligbile for driving licence\n",
            "Colour of the light: red\n",
            "Stop\n"
          ]
        }
      ]
    },
    {
      "cell_type": "markdown",
      "source": [
        "Mary, a 15 year old girl, was watching her mom making a budget list every month, either her mom use to forget few things or she use to go out of budget due to no proper grocery list that says quantity of items, prices and stuff.\n",
        "\n",
        "So Mary wants to help her mom in managing the monthly groceries by creating an app that takes grocery item name, item price and quantity of item.\n",
        "\n",
        "Before all this, the app is suppose to accept the budget amount, if shopping list items price cross over the budget amount then any new items should not be added to the list.\n",
        "\n",
        "There should be 2 things in the menu of the app one to add an item and the second option to exit from the menu once the add item is chosen, then the item name, item quantity and item price should be accepted and the price should be checked with the budget amount. If the item amount is crossing the budget amount then the item cannot be added to the list.\n",
        "\n",
        "If the exit option is chosen then the total budget amount and the"
      ],
      "metadata": {
        "id": "vxty5IWtUAD4"
      }
    },
    {
      "cell_type": "code",
      "source": [
        "limit=int(input(\"Monthly Expense limit: \"))\n",
        "\n",
        "print(\"select an option \\n1.)add an item \\n2.)Exit from menu\")\n",
        "opt=int(input())\n",
        "if opt==1:\n",
        "  print(\"Enter the amount of the item: \")\n",
        "  amt=int(input())\n",
        "  if amt<=limit:\n",
        "    print(\"item added to the list\")\n",
        "  else:\n",
        "    print(\"item exceeds the price of monthly limit\")\n",
        "elif opt==2:\n",
        "  print(f\"The total budget={limit} \\n  \")\n",
        "else:\n",
        "  print(\"invalid response\")"
      ],
      "metadata": {
        "colab": {
          "base_uri": "https://localhost:8080/"
        },
        "id": "90sOWN0zUBbm",
        "outputId": "716d16d3-3e50-4816-a509-c463224cf725"
      },
      "execution_count": null,
      "outputs": [
        {
          "output_type": "stream",
          "name": "stdout",
          "text": [
            "Monthly Expense limit: 5000\n",
            "select an option \n",
            "1.)add an item \n",
            "2.)Exit from menu\n",
            "1\n",
            "Enter the amount of the item: \n",
            "3500\n",
            "item added to the list\n"
          ]
        }
      ]
    },
    {
      "cell_type": "markdown",
      "source": [
        "Sameer, a resident of India met John, a resident of california on facebook and they became friends, just in a conversation they planned to know each other's height and there was a problem, John would understand only if told in centimeter(cm) format. So write a program to help John to understand Sameer’s height in python to convert Feet & Inches To CM"
      ],
      "metadata": {
        "id": "_1uzxHJEX47x"
      }
    },
    {
      "cell_type": "code",
      "source": [
        "height_in_feet=int(input(\"Enter the height in foot: \"))\n",
        "height_in_inch=int(input(\"Enter the height remaining in inchs(<12) : \"))\n",
        "total=(height_in_feet)*12+height_in_inch\n",
        "height_in_cms=total*2.52\n",
        "print(f\"Height in cms = {height_in_cms} \")\n"
      ],
      "metadata": {
        "colab": {
          "base_uri": "https://localhost:8080/"
        },
        "id": "GvvnYIi7X9H_",
        "outputId": "5399eba9-67f9-4e4b-fd06-c6742373d1be"
      },
      "execution_count": null,
      "outputs": [
        {
          "output_type": "stream",
          "name": "stdout",
          "text": [
            "Enter the height in foot: 5\n",
            "Enter the height remaining in inchs(<12) : 11\n",
            "Height in cms = 178.92 \n"
          ]
        }
      ]
    },
    {
      "cell_type": "code",
      "source": [],
      "metadata": {
        "id": "NkaiMOxsaWFe"
      },
      "execution_count": null,
      "outputs": []
    }
  ]
}