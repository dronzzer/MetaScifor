{
  "cells": [
    {
      "cell_type": "code",
      "execution_count": null,
      "metadata": {
        "colab": {
          "base_uri": "https://localhost:8080/"
        },
        "id": "UoHedjy5KDZb",
        "outputId": "27a0af55-648f-4ec6-a3f7-38cb31f1b02b"
      },
      "outputs": [
        {
          "name": "stdout",
          "output_type": "stream",
          "text": [
            "Enter the number of rows:5\n",
            "Enter the no of columns: 6\n",
            " no. of desks in the class =  30\n"
          ]
        }
      ],
      "source": [
        "#no. of desks by number of rows and column\n",
        "rows=int(input(\"Enter the number of rows:\"))\n",
        "column=int(input(\"Enter the no of columns: \"))\n",
        "print(\" no. of desks in the class = \", rows*column )"
      ]
    },
    {
      "cell_type": "code",
      "execution_count": null,
      "metadata": {
        "colab": {
          "base_uri": "https://localhost:8080/"
        },
        "id": "8KTT3vGhMRLZ",
        "outputId": "8b344467-4a59-4c41-f5ec-692640e023d1"
      },
      "outputs": [
        {
          "name": "stdout",
          "output_type": "stream",
          "text": [
            "Hello!\n",
            "Select your identity:\n",
            "1.) Manager\n",
            "2.) Staff\n",
            "3.) Mr. James\n",
            "4.) Guest\n",
            "1\n",
            "Enter the code: 0\n",
            "Access granted\n"
          ]
        }
      ],
      "source": [
        "id = input(\"Hello!\\nSelect your identity:\\n1.) Manager\\n2.) Staff\\n3.) Mr. James\\n4.) Guest\\n\")\n",
        "count_management = 0\n",
        "count_guest = 0\n",
        "\n",
        "if id == \"1\" or id == \"2\" or id == \"3\":\n",
        "    code = input(\"Enter the code: \")\n",
        "    if code == \"0\":\n",
        "        count_management += 1\n",
        "        print(\"Access granted\")\n",
        "    else:\n",
        "        print(\"Invalid code\")\n",
        "\n",
        "elif id == \"4\":\n",
        "    code = input(\"Enter the code: \")\n",
        "    if code == \"1\":\n",
        "        count_guest += 1\n",
        "        print(\"Welcome guest\")\n",
        "    else:\n",
        "        print(\"Invalid code\")\n"
      ]
    },
    {
      "cell_type": "code",
      "execution_count": null,
      "metadata": {
        "colab": {
          "base_uri": "https://localhost:8080/"
        },
        "id": "_IJF8x9iMVJn",
        "outputId": "e7386596-3cc2-46d3-f6fe-8150dbc05543"
      },
      "outputs": [
        {
          "name": "stdout",
          "output_type": "stream",
          "text": [
            " enter a number greater than 10:13\n",
            "1  is an odd num:\n",
            "2  is an even num:\n",
            "3  is an odd num:\n",
            "4  is an even num:\n",
            "5  is an odd num:\n",
            "6  is an even num:\n",
            "7  is an odd num:\n",
            "8  is an even num:\n",
            "9  is an odd num:\n",
            "10  is an even num:\n",
            "11  is an odd num:\n",
            "12  is an even num:\n"
          ]
        }
      ],
      "source": [
        "num=int(input(\" enter a number greater than 10:\"))\n",
        "for i in range(1,num):\n",
        "    if i%2==0:\n",
        "        print(i,\" is an even num:\")\n",
        "    else:\n",
        "        print(i, \" is an odd num:\")"
      ]
    },
    {
      "cell_type": "code",
      "execution_count": null,
      "metadata": {
        "colab": {
          "base_uri": "https://localhost:8080/"
        },
        "id": "pYsw-R49MYtP",
        "outputId": "b4e87dde-1a4f-4250-912c-d364354272db"
      },
      "outputs": [
        {
          "name": "stdout",
          "output_type": "stream",
          "text": [
            "Type the essay: Once there was a tiger named sher khan and his friend bear called bagehra were roaming in the forest and. And after walking for a few distance in the jungle they saw a small kid lying in the sand and was cryin\n",
            "42\n",
            "Essay is not eligible for competition\n"
          ]
        }
      ],
      "source": [
        "def count(essay):\n",
        "    word_count=0\n",
        "    within_word=True\n",
        "    for char in essay:\n",
        "        if char.isspace():\n",
        "            if within_word:\n",
        "\n",
        "                word_count+=1\n",
        "                within_word=False\n",
        "        else:\n",
        "            within_word=True\n",
        "    if within_word:\n",
        "        word_count+=1\n",
        "    return word_count\n",
        "\n",
        "essay=input(\"Type the essay: \")\n",
        "ans=count(essay)\n",
        "print(ans)\n",
        "if ans>=250:\n",
        "    print(\"Essay is eligible for the competition\")\n",
        "else :\n",
        "    print(\"Essay is not eligible for competition\")"
      ]
    },
    {
      "cell_type": "code",
      "execution_count": null,
      "metadata": {
        "colab": {
          "base_uri": "https://localhost:8080/"
        },
        "id": "OiHnPdTYMdbL",
        "outputId": "a636c467-19ea-4dc7-86ff-a8526b5447ce"
      },
      "outputs": [
        {
          "name": "stdout",
          "output_type": "stream",
          "text": [
            "Enter a number: 23\n",
            "23 is a prime number.\n"
          ]
        }
      ],
      "source": [
        "\n",
        "num = int(input(\"Enter a number: \"))\n",
        "\n",
        "is_prime = True\n",
        "if num < 2:\n",
        "    is_prime = False\n",
        "else:\n",
        "    for i in range(2, int(num ** 0.5) + 1):\n",
        "        if num % i == 0:\n",
        "            is_prime = False\n",
        "            break\n",
        "if is_prime:\n",
        "    print(f\"{num} is a prime number.\")\n",
        "else:\n",
        "    print(f\"{num} is not a prime number.\")\n"
      ]
    },
    {
      "cell_type": "code",
      "execution_count": null,
      "metadata": {
        "colab": {
          "base_uri": "https://localhost:8080/",
          "height": 668
        },
        "id": "UU2bIfypNQ7c",
        "outputId": "922384bb-fce7-46f9-839a-67453b7d0db3"
      },
      "outputs": [
        {
          "name": "stdout",
          "output_type": "stream",
          "text": [
            "\n",
            "Student Management System\n",
            "1. Display all students\n",
            "2. Add a new student\n",
            "3. Send a message to a student\n",
            "4. Exit\n",
            "Enter your choice: 1\n",
            "Student ID : Student Name\n",
            "9 : Arjun\n",
            "10 : Rajesh\n",
            "11 : Rajesh\n",
            "12 : Sathish\n",
            "\n",
            "Student Management System\n",
            "1. Display all students\n",
            "2. Add a new student\n",
            "3. Send a message to a student\n",
            "4. Exit\n"
          ]
        },
        {
          "ename": "KeyboardInterrupt",
          "evalue": "Interrupted by user",
          "output_type": "error",
          "traceback": [
            "\u001b[0;31m---------------------------------------------------------------------------\u001b[0m",
            "\u001b[0;31mKeyboardInterrupt\u001b[0m                         Traceback (most recent call last)",
            "\u001b[0;32m<ipython-input-1-b1681b6b27cb>\u001b[0m in \u001b[0;36m<cell line: 8>\u001b[0;34m()\u001b[0m\n\u001b[1;32m     13\u001b[0m     \u001b[0mprint\u001b[0m\u001b[0;34m(\u001b[0m\u001b[0;34m\"4. Exit\"\u001b[0m\u001b[0;34m)\u001b[0m\u001b[0;34m\u001b[0m\u001b[0;34m\u001b[0m\u001b[0m\n\u001b[1;32m     14\u001b[0m \u001b[0;34m\u001b[0m\u001b[0m\n\u001b[0;32m---> 15\u001b[0;31m     \u001b[0mchoice\u001b[0m \u001b[0;34m=\u001b[0m \u001b[0mint\u001b[0m\u001b[0;34m(\u001b[0m\u001b[0minput\u001b[0m\u001b[0;34m(\u001b[0m\u001b[0;34m\"Enter your choice: \"\u001b[0m\u001b[0;34m)\u001b[0m\u001b[0;34m)\u001b[0m\u001b[0;34m\u001b[0m\u001b[0;34m\u001b[0m\u001b[0m\n\u001b[0m\u001b[1;32m     16\u001b[0m \u001b[0;34m\u001b[0m\u001b[0m\n\u001b[1;32m     17\u001b[0m     \u001b[0;32mif\u001b[0m \u001b[0mchoice\u001b[0m \u001b[0;34m==\u001b[0m \u001b[0;36m1\u001b[0m\u001b[0;34m:\u001b[0m\u001b[0;34m\u001b[0m\u001b[0;34m\u001b[0m\u001b[0m\n",
            "\u001b[0;32m/usr/local/lib/python3.10/dist-packages/ipykernel/kernelbase.py\u001b[0m in \u001b[0;36mraw_input\u001b[0;34m(self, prompt)\u001b[0m\n\u001b[1;32m    849\u001b[0m                 \u001b[0;34m\"raw_input was called, but this frontend does not support input requests.\"\u001b[0m\u001b[0;34m\u001b[0m\u001b[0;34m\u001b[0m\u001b[0m\n\u001b[1;32m    850\u001b[0m             )\n\u001b[0;32m--> 851\u001b[0;31m         return self._input_request(str(prompt),\n\u001b[0m\u001b[1;32m    852\u001b[0m             \u001b[0mself\u001b[0m\u001b[0;34m.\u001b[0m\u001b[0m_parent_ident\u001b[0m\u001b[0;34m,\u001b[0m\u001b[0;34m\u001b[0m\u001b[0;34m\u001b[0m\u001b[0m\n\u001b[1;32m    853\u001b[0m             \u001b[0mself\u001b[0m\u001b[0;34m.\u001b[0m\u001b[0m_parent_header\u001b[0m\u001b[0;34m,\u001b[0m\u001b[0;34m\u001b[0m\u001b[0;34m\u001b[0m\u001b[0m\n",
            "\u001b[0;32m/usr/local/lib/python3.10/dist-packages/ipykernel/kernelbase.py\u001b[0m in \u001b[0;36m_input_request\u001b[0;34m(self, prompt, ident, parent, password)\u001b[0m\n\u001b[1;32m    893\u001b[0m             \u001b[0;32mexcept\u001b[0m \u001b[0mKeyboardInterrupt\u001b[0m\u001b[0;34m:\u001b[0m\u001b[0;34m\u001b[0m\u001b[0;34m\u001b[0m\u001b[0m\n\u001b[1;32m    894\u001b[0m                 \u001b[0;31m# re-raise KeyboardInterrupt, to truncate traceback\u001b[0m\u001b[0;34m\u001b[0m\u001b[0;34m\u001b[0m\u001b[0m\n\u001b[0;32m--> 895\u001b[0;31m                 \u001b[0;32mraise\u001b[0m \u001b[0mKeyboardInterrupt\u001b[0m\u001b[0;34m(\u001b[0m\u001b[0;34m\"Interrupted by user\"\u001b[0m\u001b[0;34m)\u001b[0m \u001b[0;32mfrom\u001b[0m \u001b[0;32mNone\u001b[0m\u001b[0;34m\u001b[0m\u001b[0;34m\u001b[0m\u001b[0m\n\u001b[0m\u001b[1;32m    896\u001b[0m             \u001b[0;32mexcept\u001b[0m \u001b[0mException\u001b[0m \u001b[0;32mas\u001b[0m \u001b[0me\u001b[0m\u001b[0;34m:\u001b[0m\u001b[0;34m\u001b[0m\u001b[0;34m\u001b[0m\u001b[0m\n\u001b[1;32m    897\u001b[0m                 \u001b[0mself\u001b[0m\u001b[0;34m.\u001b[0m\u001b[0mlog\u001b[0m\u001b[0;34m.\u001b[0m\u001b[0mwarning\u001b[0m\u001b[0;34m(\u001b[0m\u001b[0;34m\"Invalid Message:\"\u001b[0m\u001b[0;34m,\u001b[0m \u001b[0mexc_info\u001b[0m\u001b[0;34m=\u001b[0m\u001b[0;32mTrue\u001b[0m\u001b[0;34m)\u001b[0m\u001b[0;34m\u001b[0m\u001b[0;34m\u001b[0m\u001b[0m\n",
            "\u001b[0;31mKeyboardInterrupt\u001b[0m: Interrupted by user"
          ]
        }
      ],
      "source": [
        "\n",
        "students = {\n",
        "    9: \"Arjun\",\n",
        "    10: \"Rajesh\",\n",
        "    11: \"Rajesh\",\n",
        "    12: \"Sathish\"\n",
        "}\n",
        "\n",
        "while True:\n",
        "    print(\"\\nStudent Management System\")\n",
        "    print(\"1. Display all students\")\n",
        "    print(\"2. Add a new student\")\n",
        "    print(\"3. Send a message to a student\")\n",
        "    print(\"4. Exit\")\n",
        "\n",
        "    choice = int(input(\"Enter your choice: \"))\n",
        "\n",
        "    if choice == 1:\n",
        "        print(\"Student ID : Student Name\")\n",
        "        for student_id, name in students.items():\n",
        "            print(f\"{student_id} : {name}\")\n",
        "    elif choice == 2:\n",
        "        student_id = int(input(\"Enter student ID: \"))\n",
        "        name = input(\"Enter student name: \")\n",
        "        if student_id in students:\n",
        "            print(f\"Student ID {student_id} already exists.\")\n",
        "        else:\n",
        "            students[student_id] = name\n",
        "            print(f\"Student {name} with ID {student_id} added successfully.\")\n",
        "    elif choice == 3:\n",
        "        student_id = int(input(\"Enter student ID to send message: \"))\n",
        "        if student_id in students:\n",
        "            print(f\"Message sent to: {student_id}\")\n",
        "        else:\n",
        "            print(f\"Student ID {student_id} not found.\")\n",
        "    elif choice == 4:\n",
        "        print(\"Exiting the program.\")\n",
        "        break\n",
        "    else:\n",
        "        print(\"Invalid choice. Please try again.\")\n"
      ]
    },
    {
      "cell_type": "code",
      "execution_count": null,
      "metadata": {
        "colab": {
          "base_uri": "https://localhost:8080/",
          "height": 790
        },
        "id": "Tap1q4f-NY_h",
        "outputId": "964f6864-f247-4a35-c5ea-38ee8e45b29e"
      },
      "outputs": [
        {
          "name": "stdout",
          "output_type": "stream",
          "text": [
            "Select the Option\n",
            "1.)Balance Enquiry\n",
            "2.)Deposit money\n",
            "3.)Withdraw money\n",
            "4.)quick cash\n",
            "1\n",
            "Current balance in your account is Rs23000\n",
            "Select the Option\n",
            "1.)Balance Enquiry\n",
            "2.)Deposit money\n",
            "3.)Withdraw money\n",
            "4.)quick cash\n",
            "2\n",
            "Enter the amount to be deposited: 5000\n",
            "Rs5000 deposited into your bank account \n",
            "\n",
            "Your current balance is Rs28000\n",
            "\n",
            "Select the Option\n",
            "1.)Balance Enquiry\n",
            "2.)Deposit money\n",
            "3.)Withdraw money\n",
            "4.)quick cash\n",
            "1\n",
            "Current balance in your account is Rs23000\n"
          ]
        },
        {
          "ename": "KeyboardInterrupt",
          "evalue": "Interrupted by user",
          "output_type": "error",
          "traceback": [
            "\u001b[0;31m---------------------------------------------------------------------------\u001b[0m",
            "\u001b[0;31mKeyboardInterrupt\u001b[0m                         Traceback (most recent call last)",
            "\u001b[0;32m<ipython-input-7-cc7e5d3ada28>\u001b[0m in \u001b[0;36m<cell line: 1>\u001b[0;34m()\u001b[0m\n\u001b[1;32m      1\u001b[0m \u001b[0;32mwhile\u001b[0m \u001b[0;32mTrue\u001b[0m\u001b[0;34m:\u001b[0m\u001b[0;34m\u001b[0m\u001b[0;34m\u001b[0m\u001b[0m\n\u001b[1;32m      2\u001b[0m   \u001b[0mbal\u001b[0m\u001b[0;34m=\u001b[0m\u001b[0;36m23000\u001b[0m\u001b[0;34m\u001b[0m\u001b[0;34m\u001b[0m\u001b[0m\n\u001b[0;32m----> 3\u001b[0;31m   \u001b[0moption\u001b[0m\u001b[0;34m=\u001b[0m\u001b[0minput\u001b[0m\u001b[0;34m(\u001b[0m\u001b[0;34m\"Select the Option\\n1.)Balance Enquiry\\n2.)Deposit money\\n3.)Withdraw money\\n4.)quick cash\\n\"\u001b[0m\u001b[0;34m)\u001b[0m\u001b[0;34m\u001b[0m\u001b[0;34m\u001b[0m\u001b[0m\n\u001b[0m\u001b[1;32m      4\u001b[0m   \u001b[0;32mif\u001b[0m \u001b[0moption\u001b[0m\u001b[0;34m==\u001b[0m\u001b[0;34m'1'\u001b[0m\u001b[0;34m:\u001b[0m\u001b[0;34m\u001b[0m\u001b[0;34m\u001b[0m\u001b[0m\n\u001b[1;32m      5\u001b[0m     \u001b[0mprint\u001b[0m\u001b[0;34m(\u001b[0m\u001b[0;34mf\"Current balance in your account is Rs{bal}\"\u001b[0m\u001b[0;34m)\u001b[0m\u001b[0;34m\u001b[0m\u001b[0;34m\u001b[0m\u001b[0m\n",
            "\u001b[0;32m/usr/local/lib/python3.10/dist-packages/ipykernel/kernelbase.py\u001b[0m in \u001b[0;36mraw_input\u001b[0;34m(self, prompt)\u001b[0m\n\u001b[1;32m    849\u001b[0m                 \u001b[0;34m\"raw_input was called, but this frontend does not support input requests.\"\u001b[0m\u001b[0;34m\u001b[0m\u001b[0;34m\u001b[0m\u001b[0m\n\u001b[1;32m    850\u001b[0m             )\n\u001b[0;32m--> 851\u001b[0;31m         return self._input_request(str(prompt),\n\u001b[0m\u001b[1;32m    852\u001b[0m             \u001b[0mself\u001b[0m\u001b[0;34m.\u001b[0m\u001b[0m_parent_ident\u001b[0m\u001b[0;34m,\u001b[0m\u001b[0;34m\u001b[0m\u001b[0;34m\u001b[0m\u001b[0m\n\u001b[1;32m    853\u001b[0m             \u001b[0mself\u001b[0m\u001b[0;34m.\u001b[0m\u001b[0m_parent_header\u001b[0m\u001b[0;34m,\u001b[0m\u001b[0;34m\u001b[0m\u001b[0;34m\u001b[0m\u001b[0m\n",
            "\u001b[0;32m/usr/local/lib/python3.10/dist-packages/ipykernel/kernelbase.py\u001b[0m in \u001b[0;36m_input_request\u001b[0;34m(self, prompt, ident, parent, password)\u001b[0m\n\u001b[1;32m    893\u001b[0m             \u001b[0;32mexcept\u001b[0m \u001b[0mKeyboardInterrupt\u001b[0m\u001b[0;34m:\u001b[0m\u001b[0;34m\u001b[0m\u001b[0;34m\u001b[0m\u001b[0m\n\u001b[1;32m    894\u001b[0m                 \u001b[0;31m# re-raise KeyboardInterrupt, to truncate traceback\u001b[0m\u001b[0;34m\u001b[0m\u001b[0;34m\u001b[0m\u001b[0m\n\u001b[0;32m--> 895\u001b[0;31m                 \u001b[0;32mraise\u001b[0m \u001b[0mKeyboardInterrupt\u001b[0m\u001b[0;34m(\u001b[0m\u001b[0;34m\"Interrupted by user\"\u001b[0m\u001b[0;34m)\u001b[0m \u001b[0;32mfrom\u001b[0m \u001b[0;32mNone\u001b[0m\u001b[0;34m\u001b[0m\u001b[0;34m\u001b[0m\u001b[0m\n\u001b[0m\u001b[1;32m    896\u001b[0m             \u001b[0;32mexcept\u001b[0m \u001b[0mException\u001b[0m \u001b[0;32mas\u001b[0m \u001b[0me\u001b[0m\u001b[0;34m:\u001b[0m\u001b[0;34m\u001b[0m\u001b[0;34m\u001b[0m\u001b[0m\n\u001b[1;32m    897\u001b[0m                 \u001b[0mself\u001b[0m\u001b[0;34m.\u001b[0m\u001b[0mlog\u001b[0m\u001b[0;34m.\u001b[0m\u001b[0mwarning\u001b[0m\u001b[0;34m(\u001b[0m\u001b[0;34m\"Invalid Message:\"\u001b[0m\u001b[0;34m,\u001b[0m \u001b[0mexc_info\u001b[0m\u001b[0;34m=\u001b[0m\u001b[0;32mTrue\u001b[0m\u001b[0;34m)\u001b[0m\u001b[0;34m\u001b[0m\u001b[0;34m\u001b[0m\u001b[0m\n",
            "\u001b[0;31mKeyboardInterrupt\u001b[0m: Interrupted by user"
          ]
        }
      ],
      "source": [
        "while True:\n",
        "  bal=23000\n",
        "  option=input(\"Select the Option\\n1.)Balance Enquiry\\n2.)Deposit money\\n3.)Withdraw money\\n4.)quick cash\\n\")\n",
        "  if option=='1':\n",
        "    print(f\"Current balance in your account is Rs{bal}\")\n",
        "  elif option=='2':\n",
        "    amount=int(input(\"Enter the amount to be deposited: \"))\n",
        "    print(f\"Rs{amount} deposited into your bank account \\n\\nYour current balance is Rs{bal+amount}\\n\")\n",
        "    bal=bal+amount\n",
        "  elif option=='3':\n",
        "    wamount=int(input(\"Enter the amount to be withdrawn: \"))\n",
        "    print(f\"Rs{wamount} withdarwn from your bank account \\nYour current balance is Rs{bal+wamount}\")\n",
        "    bal=bal-wamount\n",
        "  elif option=='4':\n",
        "    opt=int(input(\"Select the option\\n1.)500\\n2.)1000\\n3.)2000\\n4.)5000\\n5.)10000\\n \"))\n",
        "    if opt==1:\n",
        "      print(f\"Rs500 withdarwn from your bank account \\n Your current balance is Rs{bal-500}\")\n",
        "      bal=bal-500\n",
        "    elif opt==2:\n",
        "      print(f\"Rs1000 withdarwn from your bank account \\n Your current balance is Rs{bal-1000}\")\n",
        "      bal=bal-1000\n",
        "    elif opt==3:\n",
        "      print(f\"Rs2000 withdarwn from your bank account \\n Your current balance is Rs{bal-2000}\")\n",
        "      bal=bal-2000\n",
        "    elif opt==4:\n",
        "      print(f\"Rs5000 withdarwn from your bank account \\n Your current balance is Rs{bal-5000}\")\n",
        "      bal=bal-5000\n",
        "    elif opt==5:\n",
        "      print(f\"Rs10000 withdarwn from your bank account \\n Your current balance is Rs{bal-10000}\")\n",
        "      bal=bal-10000\n",
        "    else:\n",
        "      print(\"invalid option\")\n",
        "  else:\n",
        "    print(\"invalid option\")\n",
        "\n",
        "\n"
      ]
    },
    {
      "cell_type": "markdown",
      "metadata": {
        "id": "eQL7Y96sJ5hj"
      },
      "source": [
        "Create a chatbot major one"
      ]
    },
    {
      "cell_type": "code",
      "execution_count": null,
      "metadata": {
        "colab": {
          "background_save": true,
          "base_uri": "https://localhost:8080/"
        },
        "id": "FxVSzF3BJ_Az",
        "outputId": "67e6b5a0-6ed8-4a63-f978-e9c2da010097"
      },
      "outputs": [
        {
          "name": "stdout",
          "output_type": "stream",
          "text": [
            "Menu:\n",
            "1. Pizza - $8.99\n",
            "2. Burger - $5.99\n",
            "3. Pasta - $7.99\n",
            "4. Salad - $4.99\n",
            "Burger added to your order.\n",
            "\n",
            "Your order summary:\n",
            "Burger - $5.99\n",
            "Total: $5.99\n"
          ]
        }
      ],
      "source": [
        "#chatbot for ordering food on restaurent\n",
        "menu = {\n",
        "    1: {'item': 'Pizza', 'price': 8.99},\n",
        "    2: {'item': 'Burger', 'price': 5.99},\n",
        "    3: {'item': 'Pasta', 'price': 7.99},\n",
        "    4: {'item': 'Salad', 'price': 4.99}\n",
        "}\n",
        "order=[]\n",
        "name=input(\"Welcome to our restaurent!! \\nCan I please know your name: \")\n",
        "while True:\n",
        "  opt=input(\"Welcome {name} How can I help you\\n1.)Show Menu\\n2.)Order an item \")\n",
        "  if opt == '1':\n",
        "        print(\"Menu:\")\n",
        "        for key, value in menu.items():\n",
        "            print(f\"{key}. {value['item']} - ${value['price']:.2f}\")\n",
        "  elif opt == '2':\n",
        "        while True:\n",
        "            item_number = input(\"Enter the item number to order (or type 'done' to finish): \")\n",
        "            if item_number.lower() == 'done':\n",
        "                break\n",
        "            if item_number.isdigit():\n",
        "                item_number = int(item_number)\n",
        "                if item_number in menu:\n",
        "                    order.append(menu[item_number])\n",
        "                    print(f\"{menu[item_number]['item']} added to your order.\")\n",
        "                else:\n",
        "                    print(\"Invalid item number. Please try again.\")\n",
        "            else:\n",
        "                print(\"Invalid input. Please enter a valid item number.\")\n",
        "\n",
        "        if order:\n",
        "            print(\"\\nYour order summary:\")\n",
        "            total = 0\n",
        "            for item in order:\n",
        "                print(f\"{item['item']} - ${item['price']:.2f}\")\n",
        "                total += item['price']\n",
        "            print(f\"Total: ${total:.2f}\")\n",
        "        else:\n",
        "            print(\"You haven't ordered anything.\")\n",
        "\n",
        "  elif opt == '3':\n",
        "        print(\"Thank you for visiting! Have a great day!\")\n",
        "        break\n",
        "\n",
        "  else:\n",
        "        print(\"Invalid option. Please try again.\")\n"
      ]
    },
    {
      "cell_type": "code",
      "execution_count": null,
      "metadata": {
        "id": "HSEBAkcEMVbF"
      },
      "outputs": [],
      "source": []
    }
  ],
  "metadata": {
    "colab": {
      "provenance": []
    },
    "kernelspec": {
      "display_name": "Python 3",
      "name": "python3"
    },
    "language_info": {
      "name": "python"
    }
  },
  "nbformat": 4,
  "nbformat_minor": 0
}