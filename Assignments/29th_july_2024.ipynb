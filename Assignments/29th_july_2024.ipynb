{
  "nbformat": 4,
  "nbformat_minor": 0,
  "metadata": {
    "colab": {
      "provenance": []
    },
    "kernelspec": {
      "name": "python3",
      "display_name": "Python 3"
    },
    "language_info": {
      "name": "python"
    }
  },
  "cells": [
    {
      "cell_type": "markdown",
      "source": [
        "Yash now learned how he could use inheritance to create a square class\n",
        "with the help of the existing rectangle class. Now with the help of method\n",
        "overriding, he wants to change the side of the squares as well. He just\n",
        "need to redefine the method setLength( ) and setBreadth( )."
      ],
      "metadata": {
        "id": "bUDRwm4cF04r"
      }
    },
    {
      "cell_type": "code",
      "execution_count": null,
      "metadata": {
        "colab": {
          "base_uri": "https://localhost:8080/"
        },
        "id": "2ouvqcnXFvYW",
        "outputId": "e4c6e9a6-bea7-4399-e71b-ae3954ad24b8"
      },
      "outputs": [
        {
          "output_type": "stream",
          "name": "stdout",
          "text": [
            "25\n"
          ]
        }
      ],
      "source": [
        "class Rectangle:\n",
        "  def __init__(self,length,breadth):\n",
        "    self.length=length\n",
        "    self.breadth=breadth\n",
        "  def setLength(self,length):\n",
        "    self.length=length\n",
        "  def setBreadth(self,breadth):\n",
        "    self.breadth=breadth\n",
        "  def getarea(self):\n",
        "    return self.length*self.breadth\n",
        "class Square(Rectangle):\n",
        "  def __init__(self,side):\n",
        "    self.side=side\n",
        "  def setLength(self):\n",
        "    self.length=self.side\n",
        "    self.breadth=self.side\n",
        "  def setBreadth(self):\n",
        "    self.length=self.side\n",
        "    self.breadth=self.side\n",
        "  def area(self):\n",
        "    return self.side*self.side\n",
        "\n",
        "def main():\n",
        "\n",
        "  s=Square(5)\n",
        "\n",
        "  s.setLength()\n",
        "  s.setBreadth()\n",
        "  print(s.area())\n",
        "\n",
        "main()\n",
        "\n"
      ]
    },
    {
      "cell_type": "markdown",
      "source": [
        "In a town, a garage owner manages cars and motorcycles. The owner\n",
        "needs a program to track vehicle operations. Cars honk when started;\n",
        "motorcycles pop wheelies when started. The owner wants to start and\n",
        "stop vehicles as requested. Instructions for the code: Create a Python\n",
        "program with classes for Vehicle, Car, and Motorcycle as shown. Define\n",
        "attributes and methods for starting and stopping vehicles. Create\n",
        "instances of Car and Motorcycle. Demonstrate starting, performing\n",
        "vehicle-specific actions, and stopping both instances. Ensure the\n",
        "program runs without errors and showcases vehicle functionalities."
      ],
      "metadata": {
        "id": "rpBOCd40MekD"
      }
    },
    {
      "cell_type": "code",
      "source": [
        "class Vehicle:\n",
        "    def __init__(self, name):\n",
        "        self.name = name\n",
        "\n",
        "    def start(self):\n",
        "        print(f\"{self.name} started\")\n",
        "\n",
        "    def stop(self):\n",
        "        print(f\"{self.name} stopped\")\n",
        "\n",
        "class Car(Vehicle):\n",
        "    def __init__(self, name):\n",
        "        super().__init__(name)\n",
        "\n",
        "    def honk(self):\n",
        "        print(f\"{self.name} honked\")\n",
        "\n",
        "class Motorcycle(Vehicle):\n",
        "    def __init__(self, name):\n",
        "        super().__init__(name)\n",
        "\n",
        "    def pop(self):\n",
        "        print(f\"{self.name} popped\")\n",
        "\n",
        "def main():\n",
        "    car = Car(\"Car\")\n",
        "    car.start()\n",
        "    car.honk()\n",
        "    car.stop()\n",
        "\n",
        "    motorcycle = Motorcycle(\"Motorcycle\")\n",
        "    motorcycle.start()\n",
        "    motorcycle.pop()\n",
        "    motorcycle.stop()\n",
        "\n",
        "if __name__ == \"__main__\":\n",
        "    main()\n"
      ],
      "metadata": {
        "colab": {
          "base_uri": "https://localhost:8080/"
        },
        "id": "HdUvgJvfIe5F",
        "outputId": "e1fb9859-9243-4ea9-d4be-0f9e3a3dc172"
      },
      "execution_count": null,
      "outputs": [
        {
          "output_type": "stream",
          "name": "stdout",
          "text": [
            "Car started\n",
            "Car honked\n",
            "Car stopped\n",
            "Motorcycle started\n",
            "Motorcycle popped\n",
            "Motorcycle stopped\n"
          ]
        }
      ]
    },
    {
      "cell_type": "code",
      "source": [],
      "metadata": {
        "id": "KXK-Nc5WO2a0"
      },
      "execution_count": null,
      "outputs": []
    }
  ]
}