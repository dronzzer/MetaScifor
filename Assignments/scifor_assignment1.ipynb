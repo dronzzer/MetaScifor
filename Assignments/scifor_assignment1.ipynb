{
  "nbformat": 4,
  "nbformat_minor": 0,
  "metadata": {
    "colab": {
      "provenance": []
    },
    "kernelspec": {
      "name": "python3",
      "display_name": "Python 3"
    },
    "language_info": {
      "name": "python"
    }
  },
  "cells": [
    {
      "cell_type": "code",
      "execution_count": null,
      "metadata": {
        "colab": {
          "base_uri": "https://localhost:8080/"
        },
        "id": "tjDNQj7rFRov",
        "outputId": "cc37a170-b7b5-4837-aa40-95d02af985c9"
      },
      "outputs": [
        {
          "output_type": "stream",
          "name": "stdout",
          "text": [
            "Arvind\n",
            "Name:Khushwant Vyas\n",
            "Age:22\n"
          ]
        }
      ],
      "source": [
        "'''Arvind just started learning python and he is very interested to know how he\n",
        "can print his name on the screen using python. Write a program to print Arvind on the screen.\n",
        "Print your name and age as well using a python print statement.'''\n",
        "\n",
        "print(\"Arvind\")\n",
        "print(\"Name:Khushwant Vyas\")\n",
        "print(\"Age:22\")"
      ]
    },
    {
      "cell_type": "code",
      "source": [
        "'''\n",
        "Himanshi is confused with different shapes.\n",
        "Write a program in python to print different shapes using these symbols: “|”, “-”, “/”, “\\”\n",
        "'''\n",
        "def print_square(size):\n",
        "  for i in range (size):\n",
        "    if i==0 or i== size - 1:\n",
        "      print(\"-\" * size )\n",
        "    else:\n",
        "      print(\"|\" + \" \" * (size - 2 )+ \"|\")\n",
        "def print_triangle(height):\n",
        "  for i in range (height ):\n",
        "    print( \" \" *(height - i ) + \"/\" + \" \" * (2*i) + \"\\\\\")\n",
        "  print( \" \" + (\"-\" + \" \") * height)\n",
        "\n",
        "def print_diamond(size):\n",
        "  for i in range (size):\n",
        "    print(\" \" * (size - i - 1) + \"/\" + \" \" * (2 * i ) + \"\\\\\")\n",
        "  for i in range (size):\n",
        "    print(\" \" * (i) + \"\\\\\" + \" \" * ( 2 *(size - i - 1  )) + \"/\")\n",
        "\n",
        "def main():\n",
        "  size = 5\n",
        "  print(\"square:\")\n",
        "  print_square(size)\n",
        "\n",
        "  print(\"triangle:\")\n",
        "  print_triangle(size)\n",
        "\n",
        "  print(\"Diamond:\")\n",
        "  print_diamond(size)\n",
        "if __name__ == \"__main__\":\n",
        "    main()"
      ],
      "metadata": {
        "id": "jAqpZPDzFZZL",
        "colab": {
          "base_uri": "https://localhost:8080/"
        },
        "outputId": "a9f6a39c-2c5d-48d7-e2aa-3e47bd9273a7"
      },
      "execution_count": null,
      "outputs": [
        {
          "output_type": "stream",
          "name": "stdout",
          "text": [
            "square:\n",
            "-----\n",
            "|   |\n",
            "|   |\n",
            "|   |\n",
            "-----\n",
            "triangle:\n",
            "     /\\\n",
            "    /  \\\n",
            "   /    \\\n",
            "  /      \\\n",
            " /        \\\n",
            " - - - - - \n",
            "Diamond:\n",
            "    /\\\n",
            "   /  \\\n",
            "  /    \\\n",
            " /      \\\n",
            "/        \\\n",
            "\\        /\n",
            " \\      /\n",
            "  \\    /\n",
            "   \\  /\n",
            "    \\/\n"
          ]
        }
      ]
    },
    {
      "cell_type": "code",
      "source": [
        "'''Sahil challenged Chirag to print the names of his friend in different lines using a single print statement.\n",
        " Sahil thought that this would be impossible to do. To help Chirag\n",
        " write a python program to print the names of your five friends in five different lines using a single print statement'''\n",
        "\n",
        "\n",
        "#ans\n",
        "print(\"friends of chirag:\")\n",
        "print(\" kunal \\n vasisth \\n aryan \\n hiren \\n abhishek\")\n"
      ],
      "metadata": {
        "id": "rl9lfl239Xk8",
        "colab": {
          "base_uri": "https://localhost:8080/"
        },
        "outputId": "e849dfd0-fcbf-436c-ca79-74b2b901ac02"
      },
      "execution_count": null,
      "outputs": [
        {
          "output_type": "stream",
          "name": "stdout",
          "text": [
            "friends of chirag:\n",
            " kunal \n",
            " vasisth \n",
            " aryan \n",
            " hiren \n",
            " abhishek\n"
          ]
        }
      ]
    },
    {
      "cell_type": "code",
      "source": [
        "'''\n",
        "1:A teacher told students to write an essay on themselves. Nidhi created a python program that can generate an essay just by taking inputs.\n",
        " She shared the program with her friends to help them. Write a python program that can take inputs like name, age, address, etc, and convert it\n",
        " into an essay.\n",
        "'''\n",
        "def essay(name, age, city, skills, goals):\n",
        "  essay = f'''\n",
        "  My Name is {name}. I am {age} years old. I live in {city}. I am proficient in skills like {skills}.\n",
        "  Also I am a good problem solver since i like to think critically on problems and solve them.\n",
        "  I want to become a {goals} in my life.I believe that with determination and hard work, I can achieve anything.\n",
        "  Thank you for reading my essay.\n",
        "  '''\n",
        "  return essay\n",
        "\n",
        "name=input(\"Enter your name: \")\n",
        "age=input(\"Enter your age: \")\n",
        "city=input(\"Enter your city:\")\n",
        "skills=input(\"Enter the skills you have: \")\n",
        "goals=input(\"Enter the goal of your life: \")\n",
        "\n",
        "print(essay(name,age, city, skills, goals))\n",
        "\n",
        "\n",
        "\n"
      ],
      "metadata": {
        "colab": {
          "base_uri": "https://localhost:8080/"
        },
        "id": "8SwU3LHT_moD",
        "outputId": "2e195cd1-fdaa-4743-f62c-3d699da25042"
      },
      "execution_count": null,
      "outputs": [
        {
          "output_type": "stream",
          "name": "stdout",
          "text": [
            "Enter your name: Khushwant Vyas\n",
            "Enter your age: 22\n",
            "Enter your city:Udaipur\n",
            "Enter the skills you have: linux, python, network security, webapp security\n",
            "Enter the goal of your life: cybersecurity professional\n",
            "\n",
            "  My Name is Khushwant Vyas. I am 22 years old. I live in Udaipur. I am proficient in skills like linux, python, network security, webapp security.\n",
            "  Also I am a good problem solver since i like to think critically on problems and solve them.\n",
            "  I want to become a cybersecurity professional in my life.I believe that with determination and hard work, I can achieve anything.\n",
            "  Thank you for reading my essay.\n",
            "  \n"
          ]
        }
      ]
    },
    {
      "cell_type": "code",
      "source": [
        "'''\n",
        "Write a program in python to help Rakshita in creating the chatbot. ● Hint: with the help of variables store\n",
        "the answers of the user and use it for further conversation by the chatbot. ● Example : ● >> ● Hi, I am a chatbot.\n",
        " What is your name? ● >>Nidhi ● Oh, Nidhi in which grade you are right now? ● >>8 ● Nidhi you are in 8th grade.\n",
        "  Can I ask you one question? yes or no? ● >>yes ● Tell me 1024+98=? ● >>1122 ● Good! Your answer is correct. Bye ● >>bye\n",
        "'''\n",
        "\n",
        "\n",
        "#ans\n",
        "\n",
        "name= input(\"Hi, I am a chatbot. What is your name?\\n\")\n",
        "grade=input(f'''Oh, {name} in which grade you are right now? \\n''')\n",
        "ques=input(f'''{name} you are in {grade} grade. Can I ask you one question? yes or no?\\n''')\n",
        "if ques == \"yes\":\n",
        "  ans=input(f'''Tell me what is the capital of india? \\n''')\n",
        "  if ans==\"Delhi\":\n",
        "    print('Good! Your answer is correct. Bye')\n",
        "  else:\n",
        "    print('wrong ans!! you need improvement in calculations. Bye')\n",
        "else:\n",
        "  print('let me know if you are ready for my ques. Bye')\n",
        "\n",
        "\n",
        "\n"
      ],
      "metadata": {
        "colab": {
          "base_uri": "https://localhost:8080/"
        },
        "id": "lQLlKhAfIcyj",
        "outputId": "f9867627-4904-4ca3-ef80-f3a859b997a7"
      },
      "execution_count": null,
      "outputs": [
        {
          "output_type": "stream",
          "name": "stdout",
          "text": [
            "Hi, I am a chatbot. What is your name?\n",
            "khushwant\n",
            "Oh, khushwant in which grade you are right now? \n",
            "8\n",
            "khushwant you are in 8 grade. Can I ask you one question? yes or no?\n",
            "yes\n",
            "Tell me what is the capital of india? \n",
            "Delhi\n",
            "Good! Your answer is correct. Bye\n"
          ]
        }
      ]
    },
    {
      "cell_type": "code",
      "source": [
        "'''\n",
        " Himanshu sells notebooks. Sometimes it becomes a bit difficult for him to calculate the total amount to charge from the customer.\n",
        "  To help Himanshu create a program that asks the user to enter the number of books to buy and then print the amount to be paid.\n",
        "   ● Hint: Assume the cost of one notebook - $2\n",
        "'''\n",
        "def total_amount(n):\n",
        "  total_cost = n * 2\n",
        "  return total_cost\n",
        "n=int(input(\"Enter the number of books to be bought: \"))\n",
        "ans=str(total_amount(n))\n",
        "print(\"The total amount to be paid by customer =  \" + ans + \"$\")"
      ],
      "metadata": {
        "colab": {
          "base_uri": "https://localhost:8080/"
        },
        "id": "H41uqk04pTo2",
        "outputId": "d0b35071-d6c9-437a-c310-e0bfe4e7d8f3"
      },
      "execution_count": null,
      "outputs": [
        {
          "output_type": "stream",
          "name": "stdout",
          "text": [
            "Enter the number of books to be bought: 6\n",
            "The total amount to be paid by customer =  12$\n"
          ]
        }
      ]
    },
    {
      "cell_type": "code",
      "source": [
        "'''\n",
        "Shubh is excited to do something mathematical in python. He decided to create a program that could add, subtract, multiply and divide two numbers.\n",
        " To help Shubh write a python program to apply addition, subtraction, multiplication, and division between two numbers.\n",
        "'''\n",
        "a=int(input(\"enter the first number: \"))\n",
        "b=int(input(\"enter the second number: \"))\n",
        "print(' type \"+\" for addition \\n type \"-\" for subtraction \\n type \"*\" for multiplication \\n type \"/\" for division')\n",
        "sign=input()\n",
        "if sign==\"+\":\n",
        "  ans=str(a+b)\n",
        "  print(\"a+b = \" + ans)\n",
        "elif sign==\"-\":\n",
        "  ans=str(a-b)\n",
        "  print(\"a-b = \" + ans)\n",
        "elif sign==\"*\":\n",
        "  ans=str(a*b)\n",
        "  print(\"a*b = \" + ans)\n",
        "elif sign==\"/\":\n",
        "  ans=str(a/b)\n",
        "  print(\"a/b = \"+ ans)\n",
        "else:\n",
        "  print(\"invalid response\")"
      ],
      "metadata": {
        "colab": {
          "base_uri": "https://localhost:8080/"
        },
        "id": "jOY0oXyfu-88",
        "outputId": "0f7e7fbb-5b27-40ef-a859-547967359234"
      },
      "execution_count": null,
      "outputs": [
        {
          "output_type": "stream",
          "name": "stdout",
          "text": [
            "enter the first number: 5\n",
            "enter the second number: 5\n",
            " type \"+\" for addition \n",
            " type \"-\" for subtraction \n",
            " type \"*\" for multiplication \n",
            " type \"/\" for division\n",
            "*\n",
            "a*b = 25\n"
          ]
        }
      ]
    },
    {
      "cell_type": "code",
      "source": [
        "'''\n",
        "Rakshita wants to calculate her age. So she subtracted her year of birth from the current year. Her classmates also wanted to find their age in the same way.\n",
        "So she decides to write a python program where students can input their year of birth, then the program will print their age.\n",
        "Write the same program to find your age and help your classmates in finding their age\n",
        "'''\n",
        "\n",
        "#ans\n",
        "a=int(input(\"Enter the current year: \"))\n",
        "b=int(input(\"Enter the birth year: \"))\n",
        "age=str(a-b)\n",
        "print(f\"you are {age} years old \")"
      ],
      "metadata": {
        "colab": {
          "base_uri": "https://localhost:8080/"
        },
        "id": "Vv8CnjLe1gFf",
        "outputId": "1c513149-dd00-4b8d-e937-bda971049d1d"
      },
      "execution_count": null,
      "outputs": [
        {
          "output_type": "stream",
          "name": "stdout",
          "text": [
            "Enter the current year: 2024\n",
            "Enter the birth year: 2002\n",
            "you are 22 years old \n"
          ]
        }
      ]
    },
    {
      "cell_type": "code",
      "source": [
        "if __name__ == '__main__':\n",
        "    x = int(input())\n",
        "    y = int(input())\n",
        "    z = int(input())\n",
        "    n = int(input())\n",
        "    mylist=[x,y,z]\n",
        "    print(mylist)"
      ],
      "metadata": {
        "id": "G27wwSju6zQg",
        "colab": {
          "base_uri": "https://localhost:8080/"
        },
        "outputId": "010a1845-045b-4d7a-ddd2-257f8cf73f55"
      },
      "execution_count": null,
      "outputs": [
        {
          "output_type": "stream",
          "name": "stdout",
          "text": [
            "1\n",
            "2\n",
            "1\n",
            "4\n",
            "[1, 2, 1]\n"
          ]
        }
      ]
    },
    {
      "cell_type": "code",
      "source": [
        "1"
      ],
      "metadata": {
        "id": "EPOTct1RAOmM"
      },
      "execution_count": null,
      "outputs": []
    }
  ]
}