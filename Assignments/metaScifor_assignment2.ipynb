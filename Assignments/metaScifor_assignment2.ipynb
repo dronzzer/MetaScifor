{
  "nbformat": 4,
  "nbformat_minor": 0,
  "metadata": {
    "colab": {
      "provenance": []
    },
    "kernelspec": {
      "name": "python3",
      "display_name": "Python 3"
    },
    "language_info": {
      "name": "python"
    }
  },
  "cells": [
    {
      "cell_type": "code",
      "execution_count": null,
      "metadata": {
        "colab": {
          "base_uri": "https://localhost:8080/"
        },
        "id": "yT-XRVqYtl3E",
        "outputId": "e003b4fb-dfcf-470a-b241-683ed3ad5f6f"
      },
      "outputs": [
        {
          "output_type": "stream",
          "name": "stdout",
          "text": [
            "Total number of choclates = 327 \n",
            "Total no. of students present in the class = 78\n",
            "Number of choclates remaining with the teacher after distributing equal number of choclates among every student of the class = 15\n"
          ]
        }
      ],
      "source": [
        "'''\n",
        "Its childrens day and the class teacher wanted to share chocolates with the entire class the details are as follows,\n",
        "The number of chocolates with the teacher are = 327 Number of kids in the class are = 78. Write a program to perform\n",
        " modulus division using (%) modulus operator and find out how many chocolates are remaining with the teacher after\n",
        " equally distributing 327 chocolates to 78 students.\n",
        " '''\n",
        "\n",
        " #ans\n",
        "choclates= 327\n",
        "students = 78\n",
        "ans = choclates % students\n",
        "print(f\"Total number of choclates = {choclates} \")\n",
        "print(f\"Total no. of students present in the class = {students}\")\n",
        "print(f\"Number of choclates remaining with the teacher after distributing equal number of choclates among every student of the class = {ans}\")\n"
      ]
    },
    {
      "cell_type": "code",
      "source": [
        "'''\n",
        "It's Domino's 25th Anniversary and is planning for a big give away and in order to choose the lucky draw winner Domino's first needs to collect all of its customer details.\n",
        " On collecting the customer details Domino's even wants to thank each and every customer for visiting as soon as they entered their details.\n",
        " Write a program to accept customer details like customer name, customer mobile number, customer age, customer email Id.\n",
        " On successfully receiving all the customer information write a print() to thank the customer by using his name fo\n",
        " r example\"Hi\", customerName,\"!! Thanks for visiting our restaurant and registering for our lucky draw competition\n",
        " on our 25th Anniversary.\"\"Once the lucky draw results are announced you will receive a message on your mobile number\n",
        "  :\",customerMobileNumber\"An detailed description of your gift on your email Id :\",customerEmailId\"Thank you for being\n",
        "  a valued customer\",customerName,\"!!\"\"Dominos\"\n",
        "'''\n",
        "name=input(\"Enter your name: \")\n",
        "num=input(\"Enter your mobile number: \")\n",
        "age=input(\"enter your age: \")\n",
        "email=input(\"Enter your email id: \")\n",
        "print(f\"Hi, {name} ,!! Thanks for visiting our restaurant and registering for our lucky draw competition on our 25th Anniversary.\\nOnce the lucky draw results are announced you will receive a message on your mobile number:{num} \\nAnd detailed description of your gift on your email Id : {email}\\nThank you for being a valued customer  {name}!!\\n~Dominos\")\n"
      ],
      "metadata": {
        "colab": {
          "base_uri": "https://localhost:8080/"
        },
        "id": "6-gJx-m4vLH0",
        "outputId": "afc1b3f7-e7d8-457c-8df3-752618d72b31"
      },
      "execution_count": null,
      "outputs": [
        {
          "output_type": "stream",
          "name": "stdout",
          "text": [
            "Enter your name: khushwant\n",
            "Enter your mobile number: 7073538663\n",
            "enter your age: 22\n",
            "Enter your email id: vyaskhushwant423@gmail.com\n",
            "Hi, khushwant ,!! Thanks for visiting our restaurant and registering for our lucky draw competition on our 25th Anniversary.\n",
            "Once the lucky draw results are announced you will receive a message on your mobile number:7073538663 \n",
            "And detailed description of your gift on your email Id : vyaskhushwant423@gmail.com\n",
            "Thank you for being a valued customer  khushwant!!\n",
            "~Dominos\n"
          ]
        }
      ]
    },
    {
      "cell_type": "code",
      "source": [
        "'''\n",
        "Teacher wants to conduct a quiz activity in her class. For that she is planning to group 4 students for each team among 60 students.\n",
        "She wants to know how many teams she can create among 60 students.Write a program to find the total number of teams that can be\n",
        "created among students by dividing total number of students to the number of students per team.Total number of student = 60\n",
        "Number of students per team =4\n",
        "'''\n",
        "students=60\n",
        "size=4\n",
        "print(f\"Total no. of students:{students} \")\n",
        "print(f\"Number of students in a group : {size}\")\n",
        "print(f\"Number of teams = {students/size}  \")"
      ],
      "metadata": {
        "colab": {
          "base_uri": "https://localhost:8080/"
        },
        "id": "Pnqp5uIpyVQH",
        "outputId": "89160794-312e-4c1f-f668-7507714e3424"
      },
      "execution_count": null,
      "outputs": [
        {
          "output_type": "stream",
          "name": "stdout",
          "text": [
            "Total no. of students:60 \n",
            "Number of students in a group : 4\n",
            "Number of teams = 15.0  \n"
          ]
        }
      ]
    },
    {
      "cell_type": "code",
      "source": [
        "'''\n",
        "Nidhi loves to travel to different countries. She is now in a country where the temperature is measured in Fahrenheit and she is not able to understand it in a better way.\n",
        "To help her in this situation, write program to convert temperature from Fahrenheit to celsius. ● Hint: (0°C × 9/5) + 32 = 32°F\n",
        "'''\n",
        "tempc=int(input(\"enter the temperature in degree celsius : \" ))\n",
        "tempf=(tempc * 9/5) + 32\n",
        "print(f\"Temperature in fahrenheit : {tempf}F \")"
      ],
      "metadata": {
        "colab": {
          "base_uri": "https://localhost:8080/"
        },
        "id": "HmxwJi5u5TFO",
        "outputId": "4eef3af7-b57f-4156-8f2e-29d965a4acb9"
      },
      "execution_count": null,
      "outputs": [
        {
          "output_type": "stream",
          "name": "stdout",
          "text": [
            "enter the temperature in degree celsius : 0\n",
            "Temperature in fahrenheit : 32.0F \n"
          ]
        }
      ]
    },
    {
      "cell_type": "code",
      "source": [],
      "metadata": {
        "id": "vrqCcHEk6Ay7"
      },
      "execution_count": null,
      "outputs": []
    }
  ]
}