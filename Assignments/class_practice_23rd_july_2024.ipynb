{
  "cells": [
    {
      "cell_type": "markdown",
      "source": [
        "Create a program of finding parameter of a triangle and area of any three shapes using class object\n"
      ],
      "metadata": {
        "id": "NI0Qc-dG7mEs"
      }
    },
    {
      "cell_type": "code",
      "source": [
        "class find:\n",
        "  def __init__(self,x=0,y=0,z=0):\n",
        "    self.x=x\n",
        "    self.y=y\n",
        "    self.z=z\n",
        "  def arofrect(self):\n",
        "    return self.x*self.y\n",
        "  def perimofrect(self):\n",
        "    return 2*(self.x+self.y)\n",
        "  def arofsq(self):\n",
        "    return self.x*self.x\n",
        "  def periofsq(self):\n",
        "    return 4*(self.x)\n",
        "  def arofcirc(self):\n",
        "    return 3.14*self.x*self.x\n",
        "  def periofcir(self):\n",
        "    return 2*3.14*self.x\n",
        "  def perioftri(self):\n",
        "    return self.x+self.y+self.z\n",
        "  def aroftri(self):\n",
        "    return (self.x*self.y)/2\n",
        "\n",
        "\n",
        "\n",
        "shape=input(\"Select a shape:\\n 1.)Rectangle\\n 2.)Square\\n 3.)Circle\\n 4.)Triangle\\n \")\n",
        "if shape=='1':\n",
        "  a,b=map(int, input(\"Enter the Length And breadth of Rectangle seperated by space\").split())\n",
        "  obj=find(a,b)\n",
        "  select=input(\"select the operatio:\\n1.)Area\\n2.)perimeter\\n \")\n",
        "  if select=='1':\n",
        "    print(\"Area of Rectangle= \", obj.arofrect())\n",
        "  elif select=='2':\n",
        "    print(\"Perimeter of Rectangle = \", obj.perimofrect())\n",
        "  else:\n",
        "    print(\"invalid input\")\n",
        "elif shape=='2':\n",
        "  a=int(input(\"Enter the side : \"))\n",
        "  obj=find(a)\n",
        "  select=input(\"select the operation:\\n1.)Area\\n2.)perimeter\\n \")\n",
        "  if select=='1':\n",
        "    print(\"Area of square= \", obj.arofsq())\n",
        "  elif select=='2':\n",
        "    print(\"Perimeter of square = \", obj.periofsq())\n",
        "  else:\n",
        "    print(\"invalid input\")\n",
        "elif shape=='3':\n",
        "  a=int(input(\"Enter the radius of circle : \"))\n",
        "  obj=find(a)\n",
        "  select=input(\"select the operation:\\n1.)Area\\n2.)perimeter\\n \")\n",
        "  if select=='1':\n",
        "    print(\"Area of circle= \", obj.arofcirc())\n",
        "  elif select=='2':\n",
        "    print(\"Perimeter of circle = \", obj.periofcir())\n",
        "  else:\n",
        "    print(\"invalid input\")\n",
        "if shape=='4':\n",
        "  select=input(\"select the operation:\\n1.)Area\\n2.)perimeter\\n \")\n",
        "  if select=='1':\n",
        "      a,b=map(int, input(\"Enter the base and height of the triangle\").split())\n",
        "      obj=find(a,b)\n",
        "      print(\"Area of triangle= \", obj.aroftri())\n",
        "  elif select=='2':\n",
        "      a,b,c=map(int, input(\"Enter the three sides of triangle seperated by space: \").split())\n",
        "      obj=find(a,b,c)\n",
        "      print(\"Perimeter of Triangle = \", obj.perioftri())\n",
        "  else:\n",
        "    print(\"invalid input\")\n",
        "\n",
        "\n"
      ],
      "metadata": {
        "colab": {
          "base_uri": "https://localhost:8080/"
        },
        "id": "MKryogMD8CHh",
        "outputId": "e0dd3a27-9210-47b1-f397-26e99dd0e0e1"
      },
      "execution_count": null,
      "outputs": [
        {
          "output_type": "stream",
          "name": "stdout",
          "text": [
            "Select a shape:\n",
            " 1.)Rectangle\n",
            " 2.)Square\n",
            " 3.)Circle\n",
            " 4.)Triangle\n",
            " 3\n",
            "Enter the radius of circle : 4\n",
            "select the operation:\n",
            "1.)Area\n",
            "2.)perimeter\n",
            " 1\n",
            "Area of circle=  50.24\n"
          ]
        }
      ]
    },
    {
      "cell_type": "markdown",
      "source": [
        "Print the sum of 1000 numbers using class object concepts"
      ],
      "metadata": {
        "id": "qbvumBIFIi-u"
      }
    },
    {
      "cell_type": "code",
      "source": [
        "class nums:\n",
        "  def __init__(self,n):\n",
        "    self.n=n\n",
        "  def sum(self):\n",
        "    a=0\n",
        "    for i in range(1,self.n+1):\n",
        "      a=a+i\n",
        "    return a\n",
        "\n",
        "c=int(input(\"Enter a number : \"))\n",
        "obj=nums(c)\n",
        "print(obj.sum())\n",
        "\n",
        "\n"
      ],
      "metadata": {
        "colab": {
          "base_uri": "https://localhost:8080/"
        },
        "id": "gIpfA6cGDP5r",
        "outputId": "01d5aaa0-7ff7-4145-b08f-6de74c5e4287"
      },
      "execution_count": null,
      "outputs": [
        {
          "output_type": "stream",
          "name": "stdout",
          "text": [
            "Enter a number : 1000\n",
            "500500\n"
          ]
        }
      ]
    },
    {
      "cell_type": "markdown",
      "source": [
        "Create a factorial program using class object"
      ],
      "metadata": {
        "id": "LlbGSk2JJqGu"
      }
    },
    {
      "cell_type": "code",
      "source": [
        "class a:\n",
        "  def __init__(self,n):\n",
        "    self.n=n\n",
        "  def fact(self):\n",
        "    num=1\n",
        "    while self.n>0:\n",
        "      num=num*self.n\n",
        "      self.n=self.n-1\n",
        "    return num\n",
        "\n",
        "n=int(input(\"Enter a number: \"))\n",
        "obj=a(n)\n",
        "print(obj.fact())"
      ],
      "metadata": {
        "colab": {
          "base_uri": "https://localhost:8080/"
        },
        "id": "gMv0alKXJlUq",
        "outputId": "e7170c36-7593-4035-e77a-23033121d2fe"
      },
      "execution_count": null,
      "outputs": [
        {
          "output_type": "stream",
          "name": "stdout",
          "text": [
            "Enter a number: 5\n",
            "120\n"
          ]
        }
      ]
    },
    {
      "cell_type": "code",
      "source": [],
      "metadata": {
        "id": "o-eZ9NAdLIDa"
      },
      "execution_count": null,
      "outputs": []
    }
  ],
  "metadata": {
    "colab": {
      "toc_visible": true,
      "provenance": []
    },
    "kernelspec": {
      "display_name": "Python 3",
      "name": "python3"
    }
  },
  "nbformat": 4,
  "nbformat_minor": 0
}