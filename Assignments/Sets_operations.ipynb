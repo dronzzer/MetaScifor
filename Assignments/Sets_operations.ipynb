{
  "nbformat": 4,
  "nbformat_minor": 0,
  "metadata": {
    "colab": {
      "provenance": []
    },
    "kernelspec": {
      "name": "python3",
      "display_name": "Python 3"
    },
    "language_info": {
      "name": "python"
    }
  },
  "cells": [
    {
      "cell_type": "code",
      "execution_count": null,
      "metadata": {
        "colab": {
          "base_uri": "https://localhost:8080/"
        },
        "id": "yArwsS51Cid-",
        "outputId": "e2d0ca7d-342c-45a8-8456-9aa8d4d12dfd"
      },
      "outputs": [
        {
          "output_type": "stream",
          "name": "stdout",
          "text": [
            "<class 'set'>\n"
          ]
        }
      ],
      "source": [
        "multiples_2={2,4,6,8,10,12,14,16,18,20,}\n",
        "multiples_3={3,6,9,12,15,18,21,24}\n",
        "print(type(multiples_2))"
      ]
    },
    {
      "cell_type": "code",
      "source": [
        "print(multiples_2)"
      ],
      "metadata": {
        "colab": {
          "base_uri": "https://localhost:8080/"
        },
        "id": "jpmRx872Cz5J",
        "outputId": "89a02d59-1c24-4ae8-a196-92df0e421d66"
      },
      "execution_count": null,
      "outputs": [
        {
          "output_type": "stream",
          "name": "stdout",
          "text": [
            "{2, 4, 6, 8, 10, 12, 14, 16, 18, 20}\n"
          ]
        }
      ]
    },
    {
      "cell_type": "code",
      "source": [
        "multiples_2.add(22)\n",
        "print(multiples_2)"
      ],
      "metadata": {
        "colab": {
          "base_uri": "https://localhost:8080/"
        },
        "id": "nYT71L7UC-x9",
        "outputId": "a02dfc7a-3752-4203-cb9c-27fc0ecbba78"
      },
      "execution_count": null,
      "outputs": [
        {
          "output_type": "stream",
          "name": "stdout",
          "text": [
            "{2, 4, 6, 8, 10, 12, 14, 16, 18, 20, 22}\n"
          ]
        }
      ]
    },
    {
      "cell_type": "code",
      "source": [
        "multiples_2.add(\"hellowaorld\")\n",
        "print(multiples_2)"
      ],
      "metadata": {
        "colab": {
          "base_uri": "https://localhost:8080/"
        },
        "id": "IgORCJd8DeQj",
        "outputId": "66d218b1-42ad-46e8-f7a6-34dcb3444faa"
      },
      "execution_count": null,
      "outputs": [
        {
          "output_type": "stream",
          "name": "stdout",
          "text": [
            "{2, 4, 6, 8, 10, 12, 14, 16, 18, 20, 22, 'hellowaorld'}\n"
          ]
        }
      ]
    },
    {
      "cell_type": "code",
      "source": [
        "multiples_2.remove(\"hellowaorld\")\n",
        "print(multiples_2)"
      ],
      "metadata": {
        "colab": {
          "base_uri": "https://localhost:8080/"
        },
        "id": "QP9wSTR-D6ai",
        "outputId": "65194daa-6d4e-4b29-aff0-70b24a9bba81"
      },
      "execution_count": null,
      "outputs": [
        {
          "output_type": "stream",
          "name": "stdout",
          "text": [
            "{2, 4, 6, 8, 10, 12, 14, 16, 18, 20, 22}\n"
          ]
        }
      ]
    },
    {
      "cell_type": "code",
      "source": [
        "multiples_2.pop()"
      ],
      "metadata": {
        "colab": {
          "base_uri": "https://localhost:8080/"
        },
        "id": "WahMwyhHEDmI",
        "outputId": "1d3b5906-d053-492f-a365-f3927b3014f9"
      },
      "execution_count": null,
      "outputs": [
        {
          "output_type": "execute_result",
          "data": {
            "text/plain": [
              "2"
            ]
          },
          "metadata": {},
          "execution_count": 10
        }
      ]
    },
    {
      "cell_type": "code",
      "source": [
        "print(multiples_2)"
      ],
      "metadata": {
        "colab": {
          "base_uri": "https://localhost:8080/"
        },
        "id": "N5x_plnfEIwQ",
        "outputId": "f99a348f-402c-498a-fc6b-1f15113709b0"
      },
      "execution_count": null,
      "outputs": [
        {
          "output_type": "stream",
          "name": "stdout",
          "text": [
            "{4, 6, 8, 10, 12, 14, 16, 18, 20, 22}\n"
          ]
        }
      ]
    },
    {
      "cell_type": "code",
      "source": [
        "print(multiples_2.intersection(multiples_3))"
      ],
      "metadata": {
        "colab": {
          "base_uri": "https://localhost:8080/"
        },
        "id": "0tBJJLg2EOmO",
        "outputId": "c9a7374b-33c1-4307-e0c7-7cdb1f05cbac"
      },
      "execution_count": null,
      "outputs": [
        {
          "output_type": "stream",
          "name": "stdout",
          "text": [
            "{18, 12, 6}\n"
          ]
        }
      ]
    },
    {
      "cell_type": "code",
      "source": [
        "print(multiples_2.union(multiples_3))"
      ],
      "metadata": {
        "colab": {
          "base_uri": "https://localhost:8080/"
        },
        "id": "GXSOtMePETdO",
        "outputId": "0bfa52a7-fe72-46c2-9284-1e2d03f95320"
      },
      "execution_count": null,
      "outputs": [
        {
          "output_type": "stream",
          "name": "stdout",
          "text": [
            "{2, 3, 4, 6, 8, 9, 10, 12, 14, 15, 16, 18, 20, 21, 24}\n"
          ]
        }
      ]
    },
    {
      "cell_type": "code",
      "source": [
        "multiples_4=multiples_2.copy()\n",
        "print(multiples_4)"
      ],
      "metadata": {
        "colab": {
          "base_uri": "https://localhost:8080/"
        },
        "id": "pURbRIx2Ex-4",
        "outputId": "dbd49758-4d0d-4eea-b2c4-acb99676478c"
      },
      "execution_count": null,
      "outputs": [
        {
          "output_type": "stream",
          "name": "stdout",
          "text": [
            "{2, 4, 6, 8, 10, 12, 14, 16, 18, 20}\n"
          ]
        }
      ]
    },
    {
      "cell_type": "code",
      "source": [
        "multiples_4.remove(2)\n",
        "multiples_4.remove(6)\n",
        "multiples_4.remove(10)\n",
        "multiples_4.remove(14)\n",
        "multiples_4.remove(18)\n",
        "print(multiples_4)\n"
      ],
      "metadata": {
        "colab": {
          "base_uri": "https://localhost:8080/"
        },
        "id": "1a_Y0iQBFZbD",
        "outputId": "121a7c41-896a-4259-ac02-42217611c8fb"
      },
      "execution_count": null,
      "outputs": [
        {
          "output_type": "stream",
          "name": "stdout",
          "text": [
            "{4, 8, 12, 16, 20}\n"
          ]
        }
      ]
    },
    {
      "cell_type": "code",
      "source": [
        "multiples_2.difference(multiples_4)"
      ],
      "metadata": {
        "colab": {
          "base_uri": "https://localhost:8080/"
        },
        "id": "oir4BT7jGO4U",
        "outputId": "40ae31e0-6e34-440b-da0a-45c11832d3d6"
      },
      "execution_count": null,
      "outputs": [
        {
          "output_type": "execute_result",
          "data": {
            "text/plain": [
              "{2, 6, 10, 14, 18}"
            ]
          },
          "metadata": {},
          "execution_count": 25
        }
      ]
    },
    {
      "cell_type": "code",
      "source": [
        "multiples_4.update(multiples_2)\n",
        "print(multiples_4)"
      ],
      "metadata": {
        "colab": {
          "base_uri": "https://localhost:8080/"
        },
        "id": "G6KyKGasGshZ",
        "outputId": "c31e3281-56ce-4fc9-8d5e-24301ffe0e78"
      },
      "execution_count": null,
      "outputs": [
        {
          "output_type": "stream",
          "name": "stdout",
          "text": [
            "{2, 4, 6, 8, 10, 12, 14, 16, 18, 20}\n"
          ]
        }
      ]
    },
    {
      "cell_type": "code",
      "source": [],
      "metadata": {
        "id": "98-Jb70nG62X"
      },
      "execution_count": null,
      "outputs": []
    }
  ]
}