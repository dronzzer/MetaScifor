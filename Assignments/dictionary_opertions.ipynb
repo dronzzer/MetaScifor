{
  "nbformat": 4,
  "nbformat_minor": 0,
  "metadata": {
    "colab": {
      "provenance": []
    },
    "kernelspec": {
      "name": "python3",
      "display_name": "Python 3"
    },
    "language_info": {
      "name": "python"
    }
  },
  "cells": [
    {
      "cell_type": "code",
      "execution_count": null,
      "metadata": {
        "colab": {
          "base_uri": "https://localhost:8080/"
        },
        "id": "CuRgiEt16bJi",
        "outputId": "af04863b-7c4f-433a-bfc7-42a8dc32e3d8"
      },
      "outputs": [
        {
          "output_type": "stream",
          "name": "stdout",
          "text": [
            "{'rahul': 30, 'anuj': 35, 'Diya': 38, 'ravi': 40, 'shyam': 45, 'rajesh': 50, 'khushwant': 48, 'Akshita': 48, 'kriti': 49}\n"
          ]
        }
      ],
      "source": [
        "#all the dictionary methods\n",
        "Mathematics_marks={\n",
        "    \"rahul\":30,\n",
        "    \"anuj\":35,\n",
        "    \"Diya\":38,\n",
        "    \"ravi\":40,\n",
        "    \"shyam\":45,\n",
        "    \"rajesh\":50,\n",
        "    \"khushwant\":48,\n",
        "    \"Akshita\":48,\n",
        "    \"kriti\":49\n",
        "}\n",
        "print(Mathematics_marks)\n"
      ]
    },
    {
      "cell_type": "code",
      "source": [
        "for i in Mathematics_marks:\n",
        "  print(i)"
      ],
      "metadata": {
        "colab": {
          "base_uri": "https://localhost:8080/"
        },
        "id": "VyWZiviO7PSU",
        "outputId": "847a51d6-0faf-4528-91c3-d63183cc2621"
      },
      "execution_count": null,
      "outputs": [
        {
          "output_type": "stream",
          "name": "stdout",
          "text": [
            "rahul\n",
            "anuj\n",
            "Diya\n",
            "ravi\n",
            "shyam\n",
            "rajesh\n",
            "khushwant\n",
            "Akshita\n",
            "kriti\n"
          ]
        }
      ]
    },
    {
      "cell_type": "code",
      "source": [
        "for i in Mathematics_marks.values():\n",
        "  print(i)"
      ],
      "metadata": {
        "colab": {
          "base_uri": "https://localhost:8080/"
        },
        "id": "e7sAyqZf7gPq",
        "outputId": "992b0efd-ecd7-4714-f528-c9efad73e2bd"
      },
      "execution_count": null,
      "outputs": [
        {
          "output_type": "stream",
          "name": "stdout",
          "text": [
            "30\n",
            "35\n",
            "38\n",
            "40\n",
            "45\n",
            "50\n",
            "48\n",
            "48\n",
            "49\n"
          ]
        }
      ]
    },
    {
      "cell_type": "code",
      "source": [
        "Mathematics_marks={\n",
        "    \"rahul\":30,\n",
        "    \"anuj\":35,\n",
        "    \"Diya\":38,\n",
        "    \"ravi\":40,\n",
        "    \"shyam\":45,\n",
        "    \"rajesh\":50,\n",
        "    \"khushwant\":48,\n",
        "    \"Akshita\":48,\n",
        "    \"kriti\":49\n",
        "}"
      ],
      "metadata": {
        "id": "XC3AU-1y7oyf"
      },
      "execution_count": null,
      "outputs": []
    },
    {
      "cell_type": "code",
      "source": [
        "print(Mathematics_marks.items())"
      ],
      "metadata": {
        "colab": {
          "base_uri": "https://localhost:8080/"
        },
        "id": "6jBKwfJW728z",
        "outputId": "6ab56399-29b2-41ee-dad5-3543f1b06d9c"
      },
      "execution_count": null,
      "outputs": [
        {
          "output_type": "stream",
          "name": "stdout",
          "text": [
            "dict_items([('rahul', 30), ('anuj', 35), ('Diya', 38), ('ravi', 40), ('shyam', 45), ('rajesh', 50), ('khushwant', 48), ('Akshita', 48), ('kriti', 49)])\n"
          ]
        }
      ]
    },
    {
      "cell_type": "code",
      "source": [
        "science_marks=Mathematics_marks.copy()\n",
        "print(science_marks)"
      ],
      "metadata": {
        "colab": {
          "base_uri": "https://localhost:8080/"
        },
        "id": "qMnLCW7o75Jm",
        "outputId": "7f3312f1-8587-4c7b-d691-8202d9deaa66"
      },
      "execution_count": null,
      "outputs": [
        {
          "output_type": "stream",
          "name": "stdout",
          "text": [
            "{'rahul': 30, 'anuj': 35, 'Diya': 38, 'ravi': 40, 'shyam': 45, 'rajesh': 50, 'khushwant': 48, 'Akshita': 48, 'kriti': 49}\n"
          ]
        }
      ]
    },
    {
      "cell_type": "code",
      "source": [
        "Mathematics_marks.get(\"Akshita\")"
      ],
      "metadata": {
        "colab": {
          "base_uri": "https://localhost:8080/"
        },
        "id": "ajsFHDuR859j",
        "outputId": "922aa2e2-8f5a-488d-929f-948c2e5c04be"
      },
      "execution_count": null,
      "outputs": [
        {
          "output_type": "execute_result",
          "data": {
            "text/plain": [
              "48"
            ]
          },
          "metadata": {},
          "execution_count": 14
        }
      ]
    },
    {
      "cell_type": "code",
      "source": [
        "science_marks.update({\"kriti\":45})\n",
        "print(science_marks)"
      ],
      "metadata": {
        "colab": {
          "base_uri": "https://localhost:8080/"
        },
        "id": "ujI0t5oY-Gy-",
        "outputId": "49f63949-394a-473a-a2c0-7269048da7f4"
      },
      "execution_count": null,
      "outputs": [
        {
          "output_type": "stream",
          "name": "stdout",
          "text": [
            "{'rahul': 30, 'anuj': 35, 'Diya': 38, 'ravi': 40, 'shyam': 45, 'rajesh': 50, 'khushwant': 48, 'Akshita': 48, 'kriti': 45}\n"
          ]
        }
      ]
    },
    {
      "cell_type": "code",
      "source": [
        "Mathematics_marks.keys()"
      ],
      "metadata": {
        "colab": {
          "base_uri": "https://localhost:8080/"
        },
        "id": "iNQrrsWs-UlA",
        "outputId": "8ab26b69-ff2c-4de3-a441-51c84fbf8263"
      },
      "execution_count": null,
      "outputs": [
        {
          "output_type": "execute_result",
          "data": {
            "text/plain": [
              "dict_keys(['rahul', 'anuj', 'Diya', 'ravi', 'shyam', 'rajesh', 'khushwant', 'Akshita', 'kriti'])"
            ]
          },
          "metadata": {},
          "execution_count": 21
        }
      ]
    },
    {
      "cell_type": "code",
      "source": [
        "Mathematics_marks.pop(\"ravi\")\n",
        "print(Mathematics_marks)\n"
      ],
      "metadata": {
        "colab": {
          "base_uri": "https://localhost:8080/"
        },
        "id": "t1EuD_OR-vBv",
        "outputId": "59195003-799a-41fb-d16c-a29fc5771020"
      },
      "execution_count": null,
      "outputs": [
        {
          "output_type": "stream",
          "name": "stdout",
          "text": [
            "{'rahul': 30, 'anuj': 35, 'shyam': 45, 'rajesh': 50, 'khushwant': 48, 'Akshita': 48, 'kriti': 49}\n"
          ]
        }
      ]
    },
    {
      "cell_type": "code",
      "source": [
        "Mathematics_marks.values()"
      ],
      "metadata": {
        "colab": {
          "base_uri": "https://localhost:8080/"
        },
        "id": "DqqDi02u_Fv6",
        "outputId": "f46436dc-e358-4f84-aa11-31505bda340d"
      },
      "execution_count": null,
      "outputs": [
        {
          "output_type": "execute_result",
          "data": {
            "text/plain": [
              "dict_values([30, 35, 45, 50, 48, 48, 49])"
            ]
          },
          "metadata": {},
          "execution_count": 27
        }
      ]
    },
    {
      "cell_type": "code",
      "source": [
        "Mathematics_marks.clear()\n",
        "print(Mathematics_marks)"
      ],
      "metadata": {
        "colab": {
          "base_uri": "https://localhost:8080/"
        },
        "id": "xI7S87OL_aP0",
        "outputId": "2775e1c3-cdc7-4931-8dc6-6bc4803d1b76"
      },
      "execution_count": null,
      "outputs": [
        {
          "output_type": "stream",
          "name": "stdout",
          "text": [
            "{}\n"
          ]
        }
      ]
    },
    {
      "cell_type": "code",
      "source": [
        "print(science_marks.setdefault(\"khushwant\"))\n",
        "print(science_marks)"
      ],
      "metadata": {
        "colab": {
          "base_uri": "https://localhost:8080/"
        },
        "id": "WvR-B2_E_z4-",
        "outputId": "38f1745e-fcbc-46ac-fd0b-8dbb599edc8d"
      },
      "execution_count": null,
      "outputs": [
        {
          "output_type": "stream",
          "name": "stdout",
          "text": [
            "48\n",
            "{'rahul': 30, 'anuj': 35, 'Diya': 38, 'ravi': 40, 'shyam': 45, 'rajesh': 50, 'khushwant': 48, 'Akshita': 48, 'kriti': 45}\n"
          ]
        }
      ]
    },
    {
      "cell_type": "code",
      "source": [
        "keys=[\"Fiza\",\"Obama\",\"Trump\"]\n",
        "values=3\n",
        "marks=dict.fromkeys(keys,values)\n",
        "print(marks)"
      ],
      "metadata": {
        "colab": {
          "base_uri": "https://localhost:8080/"
        },
        "id": "ekvQSn_HAo6L",
        "outputId": "bbed8ebf-c260-4600-dd6c-aee63803bb6d"
      },
      "execution_count": null,
      "outputs": [
        {
          "output_type": "stream",
          "name": "stdout",
          "text": [
            "{'Fiza': 3, 'Obama': 3, 'Trump': 3}\n"
          ]
        }
      ]
    },
    {
      "cell_type": "code",
      "source": [
        "print(marks[\"Obama\"])"
      ],
      "metadata": {
        "colab": {
          "base_uri": "https://localhost:8080/"
        },
        "id": "ELHmNVCyBxlj",
        "outputId": "823d1945-5340-4e5b-a31d-cdea7a83c18b"
      },
      "execution_count": null,
      "outputs": [
        {
          "output_type": "stream",
          "name": "stdout",
          "text": [
            "3\n"
          ]
        }
      ]
    },
    {
      "cell_type": "code",
      "source": [],
      "metadata": {
        "id": "8ELhscIPDHlX"
      },
      "execution_count": null,
      "outputs": []
    }
  ]
}