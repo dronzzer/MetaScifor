{
  "nbformat": 4,
  "nbformat_minor": 0,
  "metadata": {
    "colab": {
      "provenance": []
    },
    "kernelspec": {
      "name": "python3",
      "display_name": "Python 3"
    },
    "language_info": {
      "name": "python"
    }
  },
  "cells": [
    {
      "cell_type": "code",
      "execution_count": null,
      "metadata": {
        "colab": {
          "base_uri": "https://localhost:8080/"
        },
        "id": "-RZwrJxBOEPp",
        "outputId": "b467255d-250d-44f4-fa63-0dd82229c0c7"
      },
      "outputs": [
        {
          "output_type": "stream",
          "name": "stdout",
          "text": [
            "Enter two numbers c, d separated by space: 8 10\n",
            "Sum of c and d =   18\n",
            "Difference of c and d =   -2\n",
            "Product of c and d =   80\n",
            "c divide by d  =   0.8\n"
          ]
        }
      ],
      "source": [
        "#create a calculator using single inheritance\n",
        "class A:\n",
        "  def __init__(self,x,y):\n",
        "    self.x=x\n",
        "    self.y=y\n",
        "  def add(self):\n",
        "    return self.x+self.y\n",
        "  def multi(self):\n",
        "    return self.x*self.y\n",
        "class B(A):\n",
        "  def diff(self):\n",
        "    return self.x-self.y\n",
        "  def divide(self):\n",
        "    return self.x/self.y\n",
        "\n",
        "if __name__==\"__main__\":\n",
        "  c, d = map(int,input(\"Enter two numbers c, d separated by space: \").split())\n",
        "  obj=B(c,d)\n",
        "  print(\"Sum of c and d =  \",obj.add())\n",
        "  print(\"Difference of c and d =  \",obj.diff())\n",
        "  print(\"Product of c and d =  \",obj.multi())\n",
        "  print(\"c divide by d  =  \",obj.divide())"
      ]
    },
    {
      "cell_type": "code",
      "source": [
        "class Sum:\n",
        "  def __init__(self,n):\n",
        "    self.n=n\n",
        "  def sum(self):\n",
        "    num=0\n",
        "    for i in range(1,self.n+1):\n",
        "      num=num+i\n",
        "    return num\n",
        "class T(Sum):\n",
        "\n",
        "  pass\n",
        "\n",
        "if __name__==\"__main__\":\n",
        "  c=int(input(\"Enter a number: \"))\n",
        "  obj=T(c)\n",
        "  print(obj.sum())\n"
      ],
      "metadata": {
        "colab": {
          "base_uri": "https://localhost:8080/"
        },
        "id": "8UEtQWwFSFoB",
        "outputId": "3a4d85fd-4114-4e6f-c03b-b6cb0fca8299"
      },
      "execution_count": null,
      "outputs": [
        {
          "output_type": "stream",
          "name": "stdout",
          "text": [
            "Enter a number: 5\n",
            "15\n"
          ]
        }
      ]
    },
    {
      "cell_type": "code",
      "source": [],
      "metadata": {
        "id": "Hroc6JWiU2lZ"
      },
      "execution_count": null,
      "outputs": []
    }
  ]
}