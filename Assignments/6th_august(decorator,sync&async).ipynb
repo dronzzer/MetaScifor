{
  "nbformat": 4,
  "nbformat_minor": 0,
  "metadata": {
    "colab": {
      "provenance": []
    },
    "kernelspec": {
      "name": "python3",
      "display_name": "Python 3"
    },
    "language_info": {
      "name": "python"
    }
  },
  "cells": [
    {
      "cell_type": "code",
      "execution_count": null,
      "metadata": {
        "colab": {
          "base_uri": "https://localhost:8080/"
        },
        "id": "SpqdBbOvLSua",
        "outputId": "7738922a-74fa-41be-c3fc-6dc1d798aa23"
      },
      "outputs": [
        {
          "output_type": "stream",
          "name": "stdout",
          "text": [
            "I have\n",
            "50 rupees\n",
            "less\n"
          ]
        }
      ],
      "source": [
        "def money(lack):\n",
        "  def me():\n",
        "    print(\"I have\")\n",
        "    lack()\n",
        "    print(\"less\")\n",
        "  return me\n",
        "@money\n",
        "def amount():\n",
        "  print(\"50 rupees\")\n",
        "\n",
        "amount()"
      ]
    },
    {
      "cell_type": "code",
      "source": [
        "import asyncio\n",
        "async def first():\n",
        "  print(\"First task started\")\n",
        "  await asyncio.sleep(2)\n",
        "  print(\"YO I got your name\")\n",
        "async def second():\n",
        "  print(\"Sencond Task Started\")\n",
        "  await asyncio.sleep(1)\n",
        "  print(\"your name is krish\")\n",
        "\n",
        "async def main():\n",
        "  await asyncio.gather(first(), second())\n",
        "\n",
        "await main()"
      ],
      "metadata": {
        "colab": {
          "base_uri": "https://localhost:8080/"
        },
        "id": "CFuyu34dMKTc",
        "outputId": "aa92afcd-beb1-42cc-b87f-f3ef73cc35ed"
      },
      "execution_count": null,
      "outputs": [
        {
          "output_type": "stream",
          "name": "stdout",
          "text": [
            "First task started\n",
            "Sencond Task Started\n",
            "your name is krish\n",
            "YO I got your name\n"
          ]
        }
      ]
    },
    {
      "cell_type": "code",
      "source": [
        "import time\n",
        "def first():\n",
        "  print(\"First task started\")\n",
        "  time.sleep(2)\n",
        "  print(\"Yo I got your name\")\n",
        "def second():\n",
        "  print(\"Second Task started\")\n",
        "  time.sleep(1)\n",
        "  print(\"Your name is krish\")\n",
        "\n",
        "first()\n",
        "second()"
      ],
      "metadata": {
        "colab": {
          "base_uri": "https://localhost:8080/"
        },
        "id": "YtHegJdJVUrd",
        "outputId": "960466cb-8211-4161-bbac-49454f135522"
      },
      "execution_count": null,
      "outputs": [
        {
          "output_type": "stream",
          "name": "stdout",
          "text": [
            "First task started\n",
            "Yo I got your name\n",
            "Second Task started\n",
            "Your name is krish\n"
          ]
        }
      ]
    },
    {
      "cell_type": "code",
      "source": [],
      "metadata": {
        "id": "wtfRY176X9-H"
      },
      "execution_count": null,
      "outputs": []
    }
  ]
}